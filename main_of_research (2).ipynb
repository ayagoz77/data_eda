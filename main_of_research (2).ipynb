{
 "cells": [
  {
   "cell_type": "markdown",
   "metadata": {},
   "source": [
    "**Main task of research**\n",
    "> Define features that most affects on ratings"
   ]
  },
  {
   "cell_type": "markdown",
   "metadata": {
    "id": "9raiQoaScYU9"
   },
   "source": [
    "# **Data preparation**"
   ]
  },
  {
   "cell_type": "markdown",
   "metadata": {
    "id": "9IbUFAJ-cYTu"
   },
   "source": [
    "Import libraries that we use to prepare and visualize"
   ]
  },
  {
   "cell_type": "code",
   "execution_count": 1,
   "metadata": {
    "id": "5yH_H0vVbvjk"
   },
   "outputs": [],
   "source": [
    "import pandas as pd\n",
    "import matplotlib.pyplot as plt\n",
    "import seaborn as sns \n",
    "import numpy as np "
   ]
  },
  {
   "cell_type": "code",
   "execution_count": 2,
   "metadata": {
    "id": "pWAyLIQSd6rD"
   },
   "outputs": [],
   "source": [
    "table = pd.read_csv('test.csv')"
   ]
  },
  {
   "cell_type": "code",
   "execution_count": 3,
   "metadata": {
    "colab": {
     "base_uri": "https://localhost:8080/",
     "height": 586
    },
    "id": "tLCHsrmAeHSd",
    "outputId": "7f4de7d2-095e-4a19-8aaa-90d0e95cd4cc"
   },
   "outputs": [
    {
     "data": {
      "text/html": [
       "<div>\n",
       "<style scoped>\n",
       "    .dataframe tbody tr th:only-of-type {\n",
       "        vertical-align: middle;\n",
       "    }\n",
       "\n",
       "    .dataframe tbody tr th {\n",
       "        vertical-align: top;\n",
       "    }\n",
       "\n",
       "    .dataframe thead th {\n",
       "        text-align: right;\n",
       "    }\n",
       "</style>\n",
       "<table border=\"1\" class=\"dataframe\">\n",
       "  <thead>\n",
       "    <tr style=\"text-align: right;\">\n",
       "      <th></th>\n",
       "      <th>Unnamed: 0</th>\n",
       "      <th>Title</th>\n",
       "      <th>Year</th>\n",
       "      <th>Country</th>\n",
       "      <th>Genre</th>\n",
       "      <th>IMDb rating</th>\n",
       "      <th>Kinopoisk rating</th>\n",
       "      <th>Duration</th>\n",
       "      <th>Link</th>\n",
       "    </tr>\n",
       "  </thead>\n",
       "  <tbody>\n",
       "    <tr>\n",
       "      <th>0</th>\n",
       "      <td>0</td>\n",
       "      <td>Побег из Шоушенка</td>\n",
       "      <td>1994</td>\n",
       "      <td>США</td>\n",
       "      <td>['Драмы', 'Криминал']</td>\n",
       "      <td>9.3</td>\n",
       "      <td>9.11</td>\n",
       "      <td>142 мин.</td>\n",
       "      <td>https://rezka.ag/films/drama/806-pobeg-iz-shou...</td>\n",
       "    </tr>\n",
       "    <tr>\n",
       "      <th>1</th>\n",
       "      <td>1</td>\n",
       "      <td>Зеленая миля</td>\n",
       "      <td>1999</td>\n",
       "      <td>США</td>\n",
       "      <td>['Драмы', 'Детективы', 'Фэнтези', 'Криминал']</td>\n",
       "      <td>8.6</td>\n",
       "      <td>9.06</td>\n",
       "      <td>189 мин.</td>\n",
       "      <td>https://rezka.ag/films/drama/825-zelenaya-mily...</td>\n",
       "    </tr>\n",
       "    <tr>\n",
       "      <th>2</th>\n",
       "      <td>2</td>\n",
       "      <td>Милен Фармер</td>\n",
       "      <td>2009</td>\n",
       "      <td>Франция</td>\n",
       "      <td>['Документальные']</td>\n",
       "      <td>8.9</td>\n",
       "      <td>9.04</td>\n",
       "      <td>139 мин.</td>\n",
       "      <td>https://rezka.ag/films/documentary/13567-mylne...</td>\n",
       "    </tr>\n",
       "    <tr>\n",
       "      <th>3</th>\n",
       "      <td>3</td>\n",
       "      <td>Шестой концертный тур Милен Фармер</td>\n",
       "      <td>2013</td>\n",
       "      <td>Франция</td>\n",
       "      <td>['Музыкальные']</td>\n",
       "      <td>9.0</td>\n",
       "      <td>8.95</td>\n",
       "      <td>120 мин.</td>\n",
       "      <td>https://rezka.ag/show/musical/3153-shestoy-kon...</td>\n",
       "    </tr>\n",
       "    <tr>\n",
       "      <th>4</th>\n",
       "      <td>4</td>\n",
       "      <td>Концерт Милен Фармер в Берси</td>\n",
       "      <td>1997</td>\n",
       "      <td>Франция</td>\n",
       "      <td>['Документальные', 'Биографические']</td>\n",
       "      <td>9.2</td>\n",
       "      <td>8.93</td>\n",
       "      <td>120 мин.</td>\n",
       "      <td>https://rezka.ag/films/documentary/14598-konce...</td>\n",
       "    </tr>\n",
       "  </tbody>\n",
       "</table>\n",
       "</div>"
      ],
      "text/plain": [
       "   Unnamed: 0                               Title  Year  Country  \\\n",
       "0           0                   Побег из Шоушенка  1994      США   \n",
       "1           1                        Зеленая миля  1999      США   \n",
       "2           2                        Милен Фармер  2009  Франция   \n",
       "3           3  Шестой концертный тур Милен Фармер  2013  Франция   \n",
       "4           4        Концерт Милен Фармер в Берси  1997  Франция   \n",
       "\n",
       "                                           Genre  IMDb rating  \\\n",
       "0                          ['Драмы', 'Криминал']          9.3   \n",
       "1  ['Драмы', 'Детективы', 'Фэнтези', 'Криминал']          8.6   \n",
       "2                             ['Документальные']          8.9   \n",
       "3                                ['Музыкальные']          9.0   \n",
       "4           ['Документальные', 'Биографические']          9.2   \n",
       "\n",
       "   Kinopoisk rating  Duration  \\\n",
       "0              9.11  142 мин.   \n",
       "1              9.06  189 мин.   \n",
       "2              9.04  139 мин.   \n",
       "3              8.95  120 мин.   \n",
       "4              8.93  120 мин.   \n",
       "\n",
       "                                                Link  \n",
       "0  https://rezka.ag/films/drama/806-pobeg-iz-shou...  \n",
       "1  https://rezka.ag/films/drama/825-zelenaya-mily...  \n",
       "2  https://rezka.ag/films/documentary/13567-mylne...  \n",
       "3  https://rezka.ag/show/musical/3153-shestoy-kon...  \n",
       "4  https://rezka.ag/films/documentary/14598-konce...  "
      ]
     },
     "execution_count": 3,
     "metadata": {},
     "output_type": "execute_result"
    }
   ],
   "source": [
    "table.head()"
   ]
  },
  {
   "cell_type": "code",
   "execution_count": 4,
   "metadata": {
    "id": "FkWG5NJ_eiCA"
   },
   "outputs": [],
   "source": [
    "#delete column named 'Unnamed: 0'\n",
    "del table['Unnamed: 0']"
   ]
  },
  {
   "cell_type": "code",
   "execution_count": 5,
   "metadata": {
    "colab": {
     "base_uri": "https://localhost:8080/"
    },
    "id": "mLnexZvhfB4L",
    "outputId": "96c12e75-262d-4396-ed6d-be34fef2bfc6"
   },
   "outputs": [
    {
     "name": "stdout",
     "output_type": "stream",
     "text": [
      "<class 'pandas.core.frame.DataFrame'>\n",
      "RangeIndex: 27239 entries, 0 to 27238\n",
      "Data columns (total 8 columns):\n",
      " #   Column            Non-Null Count  Dtype  \n",
      "---  ------            --------------  -----  \n",
      " 0   Title             27239 non-null  object \n",
      " 1   Year              27239 non-null  object \n",
      " 2   Country           27239 non-null  object \n",
      " 3   Genre             27239 non-null  object \n",
      " 4   IMDb rating       26460 non-null  float64\n",
      " 5   Kinopoisk rating  21852 non-null  float64\n",
      " 6   Duration          27206 non-null  object \n",
      " 7   Link              27239 non-null  object \n",
      "dtypes: float64(2), object(6)\n",
      "memory usage: 1.7+ MB\n"
     ]
    }
   ],
   "source": [
    "table.info()"
   ]
  },
  {
   "cell_type": "code",
   "execution_count": 6,
   "metadata": {
    "id": "K3yL51W6fB5J"
   },
   "outputs": [],
   "source": [
    "#rename columns of table\n",
    "table.columns = ['title', 'year', 'country', 'genre', 'imdb_rating', 'kinopoisk_rating', 'duration', 'link']"
   ]
  },
  {
   "cell_type": "code",
   "execution_count": 7,
   "metadata": {
    "id": "GujXmRRJgY9X"
   },
   "outputs": [],
   "source": [
    "del table['link']"
   ]
  },
  {
   "cell_type": "code",
   "execution_count": 8,
   "metadata": {
    "colab": {
     "base_uri": "https://localhost:8080/"
    },
    "id": "FO27Y3U2hSRu",
    "outputId": "500d289f-6ba1-4a0c-b874-2f80caa0a22b"
   },
   "outputs": [
    {
     "name": "stdout",
     "output_type": "stream",
     "text": [
      "<class 'pandas.core.frame.DataFrame'>\n",
      "RangeIndex: 27239 entries, 0 to 27238\n",
      "Data columns (total 7 columns):\n",
      " #   Column            Non-Null Count  Dtype  \n",
      "---  ------            --------------  -----  \n",
      " 0   title             27239 non-null  object \n",
      " 1   year              27239 non-null  object \n",
      " 2   country           27239 non-null  object \n",
      " 3   genre             27239 non-null  object \n",
      " 4   imdb_rating       26460 non-null  float64\n",
      " 5   kinopoisk_rating  21852 non-null  float64\n",
      " 6   duration          27206 non-null  object \n",
      "dtypes: float64(2), object(5)\n",
      "memory usage: 1.5+ MB\n"
     ]
    }
   ],
   "source": [
    "table.info()"
   ]
  },
  {
   "cell_type": "markdown",
   "metadata": {
    "id": "k7Cy50ZyiwzS"
   },
   "source": [
    "**Change type of column year to integer type and fix some data**\n",
    "\n",
    "> YEAR COLUMN\n",
    "\n"
   ]
  },
  {
   "cell_type": "code",
   "execution_count": 9,
   "metadata": {
    "colab": {
     "base_uri": "https://localhost:8080/"
    },
    "id": "9hsyW8XahXwK",
    "outputId": "16e41aa0-229a-4054-ce42-a13607db99ec"
   },
   "outputs": [
    {
     "data": {
      "text/plain": [
       "array(['1994', '1999', '2009', '2013', '1997', '2011', '1993', '1991',\n",
       "       '1973', '1976', '2005', '2007', '2015', '1972', '1965', '2020',\n",
       "       '2008', '2018', '2006', '2010', '1985', '2003', '2014', '1981',\n",
       "       '2001', '2002', '2000', '2012', '1998', '1979', '1971', '1974',\n",
       "       '1975', '1968', '1957', '1966', '2019', '1931', '1959', '1946',\n",
       "       '1992', '2017', '1990', '1980', '1939', '1995', '1962', '2004',\n",
       "       '1988', '1961', '1983', '1964', '1982', '1977', '1978', '1989',\n",
       "       '1984', '1953', '2016', '1921', '1963', '1954', '1987', '1969',\n",
       "       '1986', '1970', '1967', '1960', '1955', '1956', '1952', '1958',\n",
       "       '1936', '1996', '1938', '1950', '1940', '1927', '1947', '1925',\n",
       "       '1928', '1951', '1945', '1942', '2021', '1920', '1948', '1930',\n",
       "       '1944', '1943', '1934', '1926', '1941', '1937', '1916', '1932',\n",
       "       '1949', '1929', '1922', '1973-1977', '1923', '1919', '1935',\n",
       "       '1917', '1915', '1933', '2018 - ...', '2014 - ...', '2019 - ...',\n",
       "       '2016 - ...'], dtype=object)"
      ]
     },
     "execution_count": 9,
     "metadata": {},
     "output_type": "execute_result"
    }
   ],
   "source": [
    "table.year.unique()#to show unique elements from column"
   ]
  },
  {
   "cell_type": "code",
   "execution_count": 10,
   "metadata": {
    "id": "jsMgtA8zjDHY"
   },
   "outputs": [],
   "source": [
    "def year_change(row):\n",
    "  '''accepts row and returns published year,\n",
    "  if there is interval'''\n",
    "  if '-' in row['year']:\n",
    "    return row['year'][:4]\n",
    "  return row['year']"
   ]
  },
  {
   "cell_type": "code",
   "execution_count": 11,
   "metadata": {
    "id": "RgopUp7vj6ZS"
   },
   "outputs": [],
   "source": [
    "#implement function with dataf.apply(func, axis=1) and save it\n",
    "table['year'] = table.apply(year_change, axis=1)"
   ]
  },
  {
   "cell_type": "code",
   "execution_count": 12,
   "metadata": {
    "colab": {
     "base_uri": "https://localhost:8080/"
    },
    "id": "Lnddz9w5kH3l",
    "outputId": "aff614c3-61ad-44db-9513-9016aca3b4bc"
   },
   "outputs": [
    {
     "data": {
      "text/plain": [
       "array(['1994', '1999', '2009', '2013', '1997', '2011', '1993', '1991',\n",
       "       '1973', '1976', '2005', '2007', '2015', '1972', '1965', '2020',\n",
       "       '2008', '2018', '2006', '2010', '1985', '2003', '2014', '1981',\n",
       "       '2001', '2002', '2000', '2012', '1998', '1979', '1971', '1974',\n",
       "       '1975', '1968', '1957', '1966', '2019', '1931', '1959', '1946',\n",
       "       '1992', '2017', '1990', '1980', '1939', '1995', '1962', '2004',\n",
       "       '1988', '1961', '1983', '1964', '1982', '1977', '1978', '1989',\n",
       "       '1984', '1953', '2016', '1921', '1963', '1954', '1987', '1969',\n",
       "       '1986', '1970', '1967', '1960', '1955', '1956', '1952', '1958',\n",
       "       '1936', '1996', '1938', '1950', '1940', '1927', '1947', '1925',\n",
       "       '1928', '1951', '1945', '1942', '2021', '1920', '1948', '1930',\n",
       "       '1944', '1943', '1934', '1926', '1941', '1937', '1916', '1932',\n",
       "       '1949', '1929', '1922', '1923', '1919', '1935', '1917', '1915',\n",
       "       '1933'], dtype=object)"
      ]
     },
     "execution_count": 12,
     "metadata": {},
     "output_type": "execute_result"
    }
   ],
   "source": [
    "#check\n",
    "table.year.unique()"
   ]
  },
  {
   "cell_type": "code",
   "execution_count": 13,
   "metadata": {
    "colab": {
     "base_uri": "https://localhost:8080/",
     "height": 343
    },
    "id": "W5SKdAx5kRdB",
    "outputId": "219064d0-ffe2-4f2e-e9eb-57bdd16c79c2"
   },
   "outputs": [
    {
     "data": {
      "text/html": [
       "<div>\n",
       "<style scoped>\n",
       "    .dataframe tbody tr th:only-of-type {\n",
       "        vertical-align: middle;\n",
       "    }\n",
       "\n",
       "    .dataframe tbody tr th {\n",
       "        vertical-align: top;\n",
       "    }\n",
       "\n",
       "    .dataframe thead th {\n",
       "        text-align: right;\n",
       "    }\n",
       "</style>\n",
       "<table border=\"1\" class=\"dataframe\">\n",
       "  <thead>\n",
       "    <tr style=\"text-align: right;\">\n",
       "      <th></th>\n",
       "      <th>title</th>\n",
       "      <th>year</th>\n",
       "      <th>country</th>\n",
       "      <th>genre</th>\n",
       "      <th>imdb_rating</th>\n",
       "      <th>kinopoisk_rating</th>\n",
       "      <th>duration</th>\n",
       "    </tr>\n",
       "  </thead>\n",
       "  <tbody>\n",
       "    <tr>\n",
       "      <th>0</th>\n",
       "      <td>Побег из Шоушенка</td>\n",
       "      <td>1994</td>\n",
       "      <td>США</td>\n",
       "      <td>['Драмы', 'Криминал']</td>\n",
       "      <td>9.3</td>\n",
       "      <td>9.11</td>\n",
       "      <td>142 мин.</td>\n",
       "    </tr>\n",
       "    <tr>\n",
       "      <th>1</th>\n",
       "      <td>Зеленая миля</td>\n",
       "      <td>1999</td>\n",
       "      <td>США</td>\n",
       "      <td>['Драмы', 'Детективы', 'Фэнтези', 'Криминал']</td>\n",
       "      <td>8.6</td>\n",
       "      <td>9.06</td>\n",
       "      <td>189 мин.</td>\n",
       "    </tr>\n",
       "    <tr>\n",
       "      <th>2</th>\n",
       "      <td>Милен Фармер</td>\n",
       "      <td>2009</td>\n",
       "      <td>Франция</td>\n",
       "      <td>['Документальные']</td>\n",
       "      <td>8.9</td>\n",
       "      <td>9.04</td>\n",
       "      <td>139 мин.</td>\n",
       "    </tr>\n",
       "    <tr>\n",
       "      <th>3</th>\n",
       "      <td>Шестой концертный тур Милен Фармер</td>\n",
       "      <td>2013</td>\n",
       "      <td>Франция</td>\n",
       "      <td>['Музыкальные']</td>\n",
       "      <td>9.0</td>\n",
       "      <td>8.95</td>\n",
       "      <td>120 мин.</td>\n",
       "    </tr>\n",
       "    <tr>\n",
       "      <th>4</th>\n",
       "      <td>Концерт Милен Фармер в Берси</td>\n",
       "      <td>1997</td>\n",
       "      <td>Франция</td>\n",
       "      <td>['Документальные', 'Биографические']</td>\n",
       "      <td>9.2</td>\n",
       "      <td>8.93</td>\n",
       "      <td>120 мин.</td>\n",
       "    </tr>\n",
       "  </tbody>\n",
       "</table>\n",
       "</div>"
      ],
      "text/plain": [
       "                                title  year  country  \\\n",
       "0                   Побег из Шоушенка  1994      США   \n",
       "1                        Зеленая миля  1999      США   \n",
       "2                        Милен Фармер  2009  Франция   \n",
       "3  Шестой концертный тур Милен Фармер  2013  Франция   \n",
       "4        Концерт Милен Фармер в Берси  1997  Франция   \n",
       "\n",
       "                                           genre  imdb_rating  \\\n",
       "0                          ['Драмы', 'Криминал']          9.3   \n",
       "1  ['Драмы', 'Детективы', 'Фэнтези', 'Криминал']          8.6   \n",
       "2                             ['Документальные']          8.9   \n",
       "3                                ['Музыкальные']          9.0   \n",
       "4           ['Документальные', 'Биографические']          9.2   \n",
       "\n",
       "   kinopoisk_rating  duration  \n",
       "0              9.11  142 мин.  \n",
       "1              9.06  189 мин.  \n",
       "2              9.04  139 мин.  \n",
       "3              8.95  120 мин.  \n",
       "4              8.93  120 мин.  "
      ]
     },
     "execution_count": 13,
     "metadata": {},
     "output_type": "execute_result"
    }
   ],
   "source": [
    "table.head()"
   ]
  },
  {
   "cell_type": "code",
   "execution_count": 14,
   "metadata": {
    "id": "fWnf3edXlL08"
   },
   "outputs": [],
   "source": [
    "#change the type of year column to integer with series.astype() method\n",
    "table.year = table['year'].astype('int')"
   ]
  },
  {
   "cell_type": "code",
   "execution_count": 15,
   "metadata": {
    "colab": {
     "base_uri": "https://localhost:8080/"
    },
    "id": "R630wV-xlx1g",
    "outputId": "33d479d6-53e7-4171-f457-5b21e79488cb"
   },
   "outputs": [
    {
     "name": "stdout",
     "output_type": "stream",
     "text": [
      "<class 'pandas.core.frame.DataFrame'>\n",
      "RangeIndex: 27239 entries, 0 to 27238\n",
      "Data columns (total 7 columns):\n",
      " #   Column            Non-Null Count  Dtype  \n",
      "---  ------            --------------  -----  \n",
      " 0   title             27239 non-null  object \n",
      " 1   year              27239 non-null  int32  \n",
      " 2   country           27239 non-null  object \n",
      " 3   genre             27239 non-null  object \n",
      " 4   imdb_rating       26460 non-null  float64\n",
      " 5   kinopoisk_rating  21852 non-null  float64\n",
      " 6   duration          27206 non-null  object \n",
      "dtypes: float64(2), int32(1), object(4)\n",
      "memory usage: 1.4+ MB\n"
     ]
    }
   ],
   "source": [
    "table.info()"
   ]
  },
  {
   "cell_type": "markdown",
   "metadata": {
    "id": "tL60KIBNmPhd"
   },
   "source": [
    "**Fix country column data**\n",
    "\n",
    "> COUNTRY COLUMN\n",
    "\n"
   ]
  },
  {
   "cell_type": "code",
   "execution_count": 16,
   "metadata": {
    "colab": {
     "base_uri": "https://localhost:8080/"
    },
    "id": "RiVnlAxZmCgq",
    "outputId": "9f196644-8728-4cda-bf29-9049a82c6c0e"
   },
   "outputs": [
    {
     "data": {
      "text/plain": [
       "array(['США', 'Франция', 'Нидерланды', 'СССР', 'Великобритания', 'Италия',\n",
       "       'Россия', 'Германия', 'Австралия', 'Финляндия', 'Бельгия',\n",
       "       'Канада', 'Индия', 'ЮАР', 'Польша', 'Корея Южная', 'Исландия',\n",
       "       'Япония', 'Турция', 'Новая Зеландия', 'Гонконг', 'Ливан',\n",
       "       'Венгрия', 'Дания', 'Швеция', 'Китай', 'Куба', 'Чехословакия',\n",
       "       'Эстония', 'Германия (ФРГ)', 'Бразилия', 'Австрия', 'Иран',\n",
       "       'Югославия (ФР)', 'Ботсвана', 'Украина', 'Испания', 'Югославия',\n",
       "       'Чехия', 'Ирландия', 'Мексика', 'Таиланд', 'Сербия', 'Греция',\n",
       "       'Беларусь', 'Швейцария', 'Тайвань', 'Армения', 'Аргентина',\n",
       "       'Казахстан', 'Португалия', 'Танзания', 'Германия (ГДР)',\n",
       "       'Саудовская Аравия', 'Драмы', 'Норвегия', 'Болгария',\n",
       "       'Босния-Герцеговина', 'Румыния', 'Кения', 'Индонезия',\n",
       "       'Документальные', 'Корея Северная', 'Израиль', 'Чили',\n",
       "       'Кыргызстан', 'Колумбия', 'Грузия', 'Литва',\n",
       "       'Папуа - Новая Гвинея', 'Филиппины', 'Ливия', 'Бутан', 'Македония',\n",
       "       'Остров Мэн', 'Венесуэла', 'Шри-Ланка', 'Палестина', 'Гватемала',\n",
       "       'Перу', 'Люксембург', 'Вьетнам', 'Сингапур', 'Азербайджан',\n",
       "       'Латвия', 'Германи', 'Алжир', 'Словакия', 'Ямайка', 'Сенегал',\n",
       "       'Хорватия', 'Уругвай', 'Албания', 'Иордания', 'Сомали', 'ОАЭ',\n",
       "       'Тунис', 'Словения', 'Пуэрто Рико', 'Панама', 'Парагвай', 'Кипр',\n",
       "       'Мелодрамы', 'Аруба', 'Ирак', 'Мальта', 'Боливия', 'Монголия',\n",
       "       'Камбоджа', 'Лихтенштейн', 'Комедии', 'Триллеры', 'Малайзия',\n",
       "       'Ужасы', 'Фантастика', 'Нигерия', 'Египет', 'Марокко',\n",
       "       'Доминикана', 'Бангладеш', 'Боевики', 'Мюзиклы', 'Андорра',\n",
       "       'Пакистан', 'Коста-Рика', 'Детективы', 'Узбекистан', 'Приключения',\n",
       "       'Гана', 'Камерун'], dtype=object)"
      ]
     },
     "execution_count": 16,
     "metadata": {},
     "output_type": "execute_result"
    }
   ],
   "source": [
    "table.country.unique()"
   ]
  },
  {
   "cell_type": "code",
   "execution_count": 17,
   "metadata": {
    "id": "STpf_ztRmpC0"
   },
   "outputs": [],
   "source": [
    "#determined genre name in countries\n",
    "def country_error(row):\n",
    "  '''check if country's name has a genre name, if so returns empty string'''\n",
    "  if row['country'] in row['genre']:\n",
    "    return ''\n",
    "  return row['country']"
   ]
  },
  {
   "cell_type": "code",
   "execution_count": 18,
   "metadata": {
    "id": "cVk5sG4VnbKx"
   },
   "outputs": [],
   "source": [
    "#call this function to our dataframe\n",
    "table['country'] = table.apply(country_error, axis = 1)"
   ]
  },
  {
   "cell_type": "code",
   "execution_count": 19,
   "metadata": {
    "colab": {
     "base_uri": "https://localhost:8080/"
    },
    "id": "ubVMNotJn6_5",
    "outputId": "2ceb4205-4739-48e3-8da9-a72186c1680f"
   },
   "outputs": [
    {
     "data": {
      "text/plain": [
       "array(['США', 'Франция', 'Нидерланды', 'СССР', 'Великобритания', 'Италия',\n",
       "       'Россия', 'Германия', 'Австралия', 'Финляндия', 'Бельгия',\n",
       "       'Канада', 'Индия', 'ЮАР', 'Польша', 'Корея Южная', 'Исландия',\n",
       "       'Япония', 'Турция', 'Новая Зеландия', 'Гонконг', 'Ливан',\n",
       "       'Венгрия', 'Дания', 'Швеция', 'Китай', 'Куба', 'Чехословакия',\n",
       "       'Эстония', 'Германия (ФРГ)', 'Бразилия', 'Австрия', 'Иран',\n",
       "       'Югославия (ФР)', 'Ботсвана', 'Украина', 'Испания', 'Югославия',\n",
       "       'Чехия', 'Ирландия', 'Мексика', 'Таиланд', 'Сербия', 'Греция',\n",
       "       'Беларусь', 'Швейцария', 'Тайвань', 'Армения', 'Аргентина',\n",
       "       'Казахстан', 'Португалия', 'Танзания', 'Германия (ГДР)',\n",
       "       'Саудовская Аравия', '', 'Норвегия', 'Болгария',\n",
       "       'Босния-Герцеговина', 'Румыния', 'Кения', 'Индонезия',\n",
       "       'Корея Северная', 'Израиль', 'Чили', 'Кыргызстан', 'Колумбия',\n",
       "       'Грузия', 'Литва', 'Папуа - Новая Гвинея', 'Филиппины', 'Ливия',\n",
       "       'Бутан', 'Македония', 'Остров Мэн', 'Венесуэла', 'Шри-Ланка',\n",
       "       'Палестина', 'Гватемала', 'Перу', 'Люксембург', 'Вьетнам',\n",
       "       'Сингапур', 'Азербайджан', 'Латвия', 'Германи', 'Алжир',\n",
       "       'Словакия', 'Ямайка', 'Сенегал', 'Хорватия', 'Уругвай', 'Албания',\n",
       "       'Иордания', 'Сомали', 'ОАЭ', 'Тунис', 'Словения', 'Пуэрто Рико',\n",
       "       'Панама', 'Парагвай', 'Кипр', 'Аруба', 'Ирак', 'Мальта', 'Боливия',\n",
       "       'Монголия', 'Камбоджа', 'Лихтенштейн', 'Малайзия', 'Нигерия',\n",
       "       'Египет', 'Марокко', 'Доминикана', 'Бангладеш', 'Андорра',\n",
       "       'Пакистан', 'Коста-Рика', 'Узбекистан', 'Гана', 'Камерун'],\n",
       "      dtype=object)"
      ]
     },
     "execution_count": 19,
     "metadata": {},
     "output_type": "execute_result"
    }
   ],
   "source": [
    "#check\n",
    "table.country.unique()"
   ]
  },
  {
   "cell_type": "code",
   "execution_count": 20,
   "metadata": {},
   "outputs": [],
   "source": [
    "table.loc[table[table.country.str.contains('Герман')].index, 'country'] = 'Германия'\n",
    "table.loc[table[table.country.str.contains('Югослав')].index, 'country'] = 'Югославия'"
   ]
  },
  {
   "cell_type": "code",
   "execution_count": 21,
   "metadata": {
    "colab": {
     "base_uri": "https://localhost:8080/"
    },
    "id": "87uc77uioEFJ",
    "outputId": "678ebec7-544f-4385-fa9c-4759c1c86b21"
   },
   "outputs": [
    {
     "data": {
      "text/plain": [
       "title               43\n",
       "year                43\n",
       "country             43\n",
       "genre               43\n",
       "imdb_rating         42\n",
       "kinopoisk_rating    11\n",
       "duration            43\n",
       "dtype: int64"
      ]
     },
     "execution_count": 21,
     "metadata": {},
     "output_type": "execute_result"
    }
   ],
   "source": [
    "table[table.country==''].count()"
   ]
  },
  {
   "cell_type": "code",
   "execution_count": 22,
   "metadata": {},
   "outputs": [],
   "source": [
    "table = table.drop(table[table.country == ''].index)"
   ]
  },
  {
   "cell_type": "code",
   "execution_count": 23,
   "metadata": {
    "colab": {
     "base_uri": "https://localhost:8080/"
    },
    "id": "z7U3WEV0pxlq",
    "outputId": "9c971817-33c5-4bfd-c1a3-dd2be7d346b1"
   },
   "outputs": [
    {
     "name": "stdout",
     "output_type": "stream",
     "text": [
      "<class 'pandas.core.frame.DataFrame'>\n",
      "Int64Index: 27196 entries, 0 to 27238\n",
      "Data columns (total 7 columns):\n",
      " #   Column            Non-Null Count  Dtype  \n",
      "---  ------            --------------  -----  \n",
      " 0   title             27196 non-null  object \n",
      " 1   year              27196 non-null  int32  \n",
      " 2   country           27196 non-null  object \n",
      " 3   genre             27196 non-null  object \n",
      " 4   imdb_rating       26418 non-null  float64\n",
      " 5   kinopoisk_rating  21841 non-null  float64\n",
      " 6   duration          27163 non-null  object \n",
      "dtypes: float64(2), int32(1), object(4)\n",
      "memory usage: 1.6+ MB\n"
     ]
    }
   ],
   "source": [
    "table.info()"
   ]
  },
  {
   "cell_type": "markdown",
   "metadata": {
    "id": "wfORX5SyqVHV"
   },
   "source": [
    "Fix duration data\n",
    "\n",
    "> DURATION COLUMN\n",
    "\n"
   ]
  },
  {
   "cell_type": "code",
   "execution_count": 24,
   "metadata": {
    "colab": {
     "base_uri": "https://localhost:8080/"
    },
    "id": "qwaSTLnTpzTQ",
    "outputId": "2c339706-4aad-41f2-e4bb-8276a7126cb2"
   },
   "outputs": [
    {
     "data": {
      "text/plain": [
       "array(['142 мин.', '189 мин.', '139 мин.', '120 мин.', '138 мин.',\n",
       "       '195 мин.', '112 мин.', '88 мин.', '137 мин.', '95 мин.',\n",
       "       '200 мин.', '134 мин.', '175 мин.', '87 мин.', '204 мин.',\n",
       "       '44 мин.', '90 мин.', '133 мин.', '121 мин.', '148 мин.',\n",
       "       '103 мин.', '65 мин.', '76 мин.', '116 мин.', '263 мин.',\n",
       "       '130 мин.', '154 мин.', '180 мин.', '169 мин.', '228 мин.',\n",
       "       '236 мин.', '155 мин.', '124 мин.', '135 мин.', '107 мин.',\n",
       "       '113 мин.', '83 мин.', '68 мин.', '102 мин.', '100 мин.', '01:24',\n",
       "       '202 мин.', '55 мин.', '170 мин.', '97 мин.', '141 мин.',\n",
       "       '94 мин.', '96 мин.', '161 мин.', '160 мин.', '23 мин.',\n",
       "       '152 мин.', '136 мин.', '210 мин.', '82 мин.', '150 мин.', '01:31',\n",
       "       '85 мин.', '151 мин.', '157 мин.', '91 мин.', '84 мин.',\n",
       "       '162 мин.', '66 мин.', '64 мин.', '92 мин.', '122 мин.',\n",
       "       '177 мин.', '63 мин.', '104 мин.', '238 мин.', '181 мин.',\n",
       "       '106 мин.', '192 мин.', '56 мин.', '57 мин.', '179 мин.',\n",
       "       '14 мин.', '60 мин.', '183 мин.', '194 мин.', '143 мин.',\n",
       "       '185 мин.', '114 мин.', '89 мин.', '166 мин.', '109 мин.',\n",
       "       '186 мин.', '74 мин.', '72 мин.', '59 мин.', '193 мин.',\n",
       "       '159 мин.', '119 мин.', '108 мин.', '127 мин.', '28 мин.',\n",
       "       '48 мин.', '81 мин.', '118 мин.', '229 мин.', '105 мин.',\n",
       "       '110 мин.', '123 мин.', '129 мин.', '86 мин.', '147 мин.',\n",
       "       '117 мин.', '02:33', '198 мин.', '128 мин.', '201 мин.', '93 мин.',\n",
       "       '144 мин.', '140 мин.', '165 мин.', '132 мин.', '184 мин.',\n",
       "       '75 мин.', '174 мин.', '99 мин.', '213 мин.', '32 мин.',\n",
       "       '126 мин.', '216 мин.', '111 мин.', '115 мин.', '205 мин.',\n",
       "       '167 мин.', '131 мин.', '207 мин.', '153 мин.', '77 мин.',\n",
       "       '101 мин.', '78 мин.', '350 мин.', '178 мин.', '196 мин.',\n",
       "       '232 мин.', '164 мин.', '80 мин.', '163 мин.', '176 мин.',\n",
       "       '146 мин.', '79 мин.', '125 мин.', '98 мин.', '47 мин.',\n",
       "       '264 мин.', '52 мин.', '287 мин.', '212 мин.', '149 мин.',\n",
       "       '168 мин.', '145 мин.', '158 мин.', '182 мин.', '172 мин.',\n",
       "       '191 мин.', '188 мин.', '224 мин.', '40 мин.', '50 мин.',\n",
       "       '30 мин.', '241 мин.', '171 мин.', '22 мин.', '71 мин.', '61 мин.',\n",
       "       '252 мин.', '240 мин.', '69 мин.', '450 мин.', '01:50', '187 мин.',\n",
       "       '01:58', '4 мин.', '19 мин.', '49 мин.', '215 мин.', '156 мин.',\n",
       "       '46 мин.', '03:28', '225 мин.', '234 мин.', '26 мин.', '43 мин.',\n",
       "       '9 мин.', '197 мин.', '318 мин.', '51 мин.', '190 мин.', '31 мин.',\n",
       "       '235 мин.', '7 мин.', '173 мин.', '42 мин.', '208 мин.', '01:28',\n",
       "       '25 мин.', '02:20', '01:53', '45 мин.', '27 мин.', '70 мин.',\n",
       "       '10 мин.', '73 мин.', '8 мин.', '58 мин.', '01:29', '5 мин.',\n",
       "       '29 мин.', '6 мин.', '103', '02:16', '01:39', '01:42', '209 мин.',\n",
       "       '17 мин.', '21 мин.', nan, '01:40', '67 мин.', '01:45', '20 мин.',\n",
       "       '220 мин.', '62 мин.', '24 мин.', '276 мин.', '35 мин.',\n",
       "       '274 мин.', '39 мин.', '13 мин.', '15 мин.', '108 мин', '421 мин.',\n",
       "       '41 мин.', '36 мин.', '11 мин.', '91', '369 мин.', '18 мин.',\n",
       "       '119', '16 мин.', '226 мин.', '45 мин. (90 мин.)', '106', '97 мин',\n",
       "       '12 мин.', '219 мин.', '01:30', '38 мин.', '272 мин.', '01:46',\n",
       "       '94', '01:22', '118', '33 мин. (66 мин.)', '37 мин.', '02:11',\n",
       "       '54 мин.', '53 мин.', '01:36', '95', '86', '257 мин.', '2 мин.',\n",
       "       '206 мин.', '199 мин.', '34 мин.', '3 мин.', '332 мин.'],\n",
       "      dtype=object)"
      ]
     },
     "execution_count": 24,
     "metadata": {},
     "output_type": "execute_result"
    }
   ],
   "source": [
    "table.duration.unique()"
   ]
  },
  {
   "cell_type": "code",
   "execution_count": 25,
   "metadata": {
    "id": "2wqTko7fqk9V"
   },
   "outputs": [
    {
     "name": "stderr",
     "output_type": "stream",
     "text": [
      "<ipython-input-25-b929c1f1d2a2>:3: FutureWarning: The default value of regex will change from True to False in a future version. In addition, single character regular expressions will*not* be treated as literal strings when regex=True.\n",
      "  table['duration'] = table['duration'].str.replace('.', '')\n"
     ]
    }
   ],
   "source": [
    "#replace words in column with ''(to this str method replace)\n",
    "table['duration'] = table['duration'].str.replace('мин', '')\n",
    "table['duration'] = table['duration'].str.replace('.', '')\n",
    "table['duration'] = table['duration'].str.replace(' ', '')\n"
   ]
  },
  {
   "cell_type": "code",
   "execution_count": 26,
   "metadata": {
    "colab": {
     "base_uri": "https://localhost:8080/"
    },
    "id": "gcpjuIpTrVZt",
    "outputId": "60162ef7-56bc-4b8a-bcc7-b9446c8e5319"
   },
   "outputs": [
    {
     "data": {
      "text/plain": [
       "array(['142', '189', '139', '120', '138', '195', '112', '88', '137', '95',\n",
       "       '200', '134', '175', '87', '204', '44', '90', '133', '121', '148',\n",
       "       '103', '65', '76', '116', '263', '130', '154', '180', '169', '228',\n",
       "       '236', '155', '124', '135', '107', '113', '83', '68', '102', '100',\n",
       "       '01:24', '202', '55', '170', '97', '141', '94', '96', '161', '160',\n",
       "       '23', '152', '136', '210', '82', '150', '01:31', '85', '151',\n",
       "       '157', '91', '84', '162', '66', '64', '92', '122', '177', '63',\n",
       "       '104', '238', '181', '106', '192', '56', '57', '179', '14', '60',\n",
       "       '183', '194', '143', '185', '114', '89', '166', '109', '186', '74',\n",
       "       '72', '59', '193', '159', '119', '108', '127', '28', '48', '81',\n",
       "       '118', '229', '105', '110', '123', '129', '86', '147', '117',\n",
       "       '02:33', '198', '128', '201', '93', '144', '140', '165', '132',\n",
       "       '184', '75', '174', '99', '213', '32', '126', '216', '111', '115',\n",
       "       '205', '167', '131', '207', '153', '77', '101', '78', '350', '178',\n",
       "       '196', '232', '164', '80', '163', '176', '146', '79', '125', '98',\n",
       "       '47', '264', '52', '287', '212', '149', '168', '145', '158', '182',\n",
       "       '172', '191', '188', '224', '40', '50', '30', '241', '171', '22',\n",
       "       '71', '61', '252', '240', '69', '450', '01:50', '187', '01:58',\n",
       "       '4', '19', '49', '215', '156', '46', '03:28', '225', '234', '26',\n",
       "       '43', '9', '197', '318', '51', '190', '31', '235', '7', '173',\n",
       "       '42', '208', '01:28', '25', '02:20', '01:53', '45', '27', '70',\n",
       "       '10', '73', '8', '58', '01:29', '5', '29', '6', '02:16', '01:39',\n",
       "       '01:42', '209', '17', '21', nan, '01:40', '67', '01:45', '20',\n",
       "       '220', '62', '24', '276', '35', '274', '39', '13', '15', '421',\n",
       "       '41', '36', '11', '369', '18', '16', '226', '45(90)', '12', '219',\n",
       "       '01:30', '38', '272', '01:46', '01:22', '33(66)', '37', '02:11',\n",
       "       '54', '53', '01:36', '257', '2', '206', '199', '34', '3', '332'],\n",
       "      dtype=object)"
      ]
     },
     "execution_count": 26,
     "metadata": {},
     "output_type": "execute_result"
    }
   ],
   "source": [
    "table.duration.unique()"
   ]
  },
  {
   "cell_type": "code",
   "execution_count": 27,
   "metadata": {
    "id": "X80GoEF3rXXY"
   },
   "outputs": [],
   "source": [
    "#determined films with duration in x:y, x(y) form\n",
    "#in duration nan elements and its type is float, then its not iterable, for this we fill missing data with mean value of duration\n",
    "mean_durat = str(pd.to_numeric(table['duration'], errors='coerce').mean())\n",
    "table['duration'] = table['duration'].fillna(value=mean_durat[:3])\n",
    "def fix_durat(row):\n",
    "  '''check column to : symbol in it, if so return a minute'''\n",
    "  dur = row['duration']\n",
    "  if ':' in dur:\n",
    "    val = str(int(dur[1])*60+int(dur[-2:]))\n",
    "    return val\n",
    "  return dur"
   ]
  },
  {
   "cell_type": "code",
   "execution_count": 28,
   "metadata": {
    "id": "LdzeWWa1sG-X"
   },
   "outputs": [],
   "source": [
    "table['duration'] = table.apply(fix_durat, axis = 1)"
   ]
  },
  {
   "cell_type": "code",
   "execution_count": 29,
   "metadata": {
    "colab": {
     "base_uri": "https://localhost:8080/",
     "height": 106
    },
    "id": "sGz14B3ut0yM",
    "outputId": "5999f954-653d-41e2-af9f-0f06774493a6"
   },
   "outputs": [
    {
     "data": {
      "text/html": [
       "<div>\n",
       "<style scoped>\n",
       "    .dataframe tbody tr th:only-of-type {\n",
       "        vertical-align: middle;\n",
       "    }\n",
       "\n",
       "    .dataframe tbody tr th {\n",
       "        vertical-align: top;\n",
       "    }\n",
       "\n",
       "    .dataframe thead th {\n",
       "        text-align: right;\n",
       "    }\n",
       "</style>\n",
       "<table border=\"1\" class=\"dataframe\">\n",
       "  <thead>\n",
       "    <tr style=\"text-align: right;\">\n",
       "      <th></th>\n",
       "      <th>title</th>\n",
       "      <th>year</th>\n",
       "      <th>country</th>\n",
       "      <th>genre</th>\n",
       "      <th>imdb_rating</th>\n",
       "      <th>kinopoisk_rating</th>\n",
       "      <th>duration</th>\n",
       "    </tr>\n",
       "  </thead>\n",
       "  <tbody>\n",
       "    <tr>\n",
       "      <th>9771</th>\n",
       "      <td>Дедушка</td>\n",
       "      <td>2016</td>\n",
       "      <td>Россия</td>\n",
       "      <td>['Мелодрамы']</td>\n",
       "      <td>6.6</td>\n",
       "      <td>6.61</td>\n",
       "      <td>45(90)</td>\n",
       "    </tr>\n",
       "    <tr>\n",
       "      <th>14298</th>\n",
       "      <td>Река памяти</td>\n",
       "      <td>2016</td>\n",
       "      <td>Россия</td>\n",
       "      <td>['Детективы', 'Мелодрамы']</td>\n",
       "      <td>NaN</td>\n",
       "      <td>6.01</td>\n",
       "      <td>33(66)</td>\n",
       "    </tr>\n",
       "  </tbody>\n",
       "</table>\n",
       "</div>"
      ],
      "text/plain": [
       "             title  year country                       genre  imdb_rating  \\\n",
       "9771       Дедушка  2016  Россия               ['Мелодрамы']          6.6   \n",
       "14298  Река памяти  2016  Россия  ['Детективы', 'Мелодрамы']          NaN   \n",
       "\n",
       "       kinopoisk_rating duration  \n",
       "9771               6.61   45(90)  \n",
       "14298              6.01   33(66)  "
      ]
     },
     "execution_count": 29,
     "metadata": {},
     "output_type": "execute_result"
    }
   ],
   "source": [
    "table[(table.duration=='45(90)')|(table.duration=='33(66)')]"
   ]
  },
  {
   "cell_type": "code",
   "execution_count": 30,
   "metadata": {
    "id": "ZVCPO5Bix72h"
   },
   "outputs": [],
   "source": [
    "#fix data with get access each element(true duration had been checked on internet)\n",
    "table.loc[9771, 'duration'] = 103\n",
    "table.loc[14298, 'duration'] = 89"
   ]
  },
  {
   "cell_type": "code",
   "execution_count": 31,
   "metadata": {
    "id": "O0_92DgyyQpB"
   },
   "outputs": [],
   "source": [
    "table['duration'] = table['duration'].astype('int')"
   ]
  },
  {
   "cell_type": "code",
   "execution_count": 32,
   "metadata": {
    "colab": {
     "base_uri": "https://localhost:8080/"
    },
    "id": "JMF6yoJryUfR",
    "outputId": "f84fa04f-770c-4cac-aa4f-2414007e1863"
   },
   "outputs": [
    {
     "name": "stdout",
     "output_type": "stream",
     "text": [
      "<class 'pandas.core.frame.DataFrame'>\n",
      "Int64Index: 27196 entries, 0 to 27238\n",
      "Data columns (total 7 columns):\n",
      " #   Column            Non-Null Count  Dtype  \n",
      "---  ------            --------------  -----  \n",
      " 0   title             27196 non-null  object \n",
      " 1   year              27196 non-null  int32  \n",
      " 2   country           27196 non-null  object \n",
      " 3   genre             27196 non-null  object \n",
      " 4   imdb_rating       26418 non-null  float64\n",
      " 5   kinopoisk_rating  21841 non-null  float64\n",
      " 6   duration          27196 non-null  int32  \n",
      "dtypes: float64(2), int32(2), object(3)\n",
      "memory usage: 2.5+ MB\n"
     ]
    }
   ],
   "source": [
    "table.info()"
   ]
  },
  {
   "cell_type": "code",
   "execution_count": 33,
   "metadata": {},
   "outputs": [],
   "source": [
    "imdb = list(table['imdb_rating'].fillna(value = 'none'))#save in variable filled 'imdb_rating' column with value 'none'\n",
    "kp = list(table['kinopoisk_rating'].fillna(value = 'none'))#save in variable filled 'kinopoisk_rating' column with value 'none'\n",
    "def add_mean(imdb, kp):\n",
    "  '''find mean from ratings if there is none values it will be equal one of them'''\n",
    "  l = []\n",
    "  for i in range(len(imdb)):\n",
    "    try:\n",
    "      a = round((imdb[i]+kp[i])/2, 1)\n",
    "    except:\n",
    "      if imdb[i] != 'none':\n",
    "        a = imdb[i]\n",
    "      else:\n",
    "        a = kp[i]\n",
    "    l.append(a)\n",
    "  return l\n",
    "table['mean_rating'] = add_mean(imdb, kp)\n",
    "table['mean_rating'] = pd.to_numeric(table['mean_rating'], errors = 'coerce')#changing type of this column to float(errors fill with nan values)"
   ]
  },
  {
   "cell_type": "code",
   "execution_count": 34,
   "metadata": {},
   "outputs": [
    {
     "name": "stdout",
     "output_type": "stream",
     "text": [
      "<class 'pandas.core.frame.DataFrame'>\n",
      "Int64Index: 26953 entries, 0 to 27238\n",
      "Data columns (total 8 columns):\n",
      " #   Column            Non-Null Count  Dtype  \n",
      "---  ------            --------------  -----  \n",
      " 0   title             26953 non-null  object \n",
      " 1   year              26953 non-null  int32  \n",
      " 2   country           26953 non-null  object \n",
      " 3   genre             26953 non-null  object \n",
      " 4   imdb_rating       26418 non-null  float64\n",
      " 5   kinopoisk_rating  21841 non-null  float64\n",
      " 6   duration          26953 non-null  int32  \n",
      " 7   mean_rating       26953 non-null  float64\n",
      "dtypes: float64(3), int32(2), object(3)\n",
      "memory usage: 1.6+ MB\n"
     ]
    }
   ],
   "source": [
    "table = table.drop(table[table.mean_rating.isna()].index)\n",
    "table.info()"
   ]
  },
  {
   "cell_type": "markdown",
   "metadata": {
    "id": "zh8I2CP22bLR"
   },
   "source": [
    "# **Data visualization and Analyzing**"
   ]
  },
  {
   "cell_type": "markdown",
   "metadata": {
    "id": "dgQUXuszcOLB"
   },
   "source": [
    "> Year"
   ]
  },
  {
   "cell_type": "code",
   "execution_count": 35,
   "metadata": {
    "id": "HzGfWYnD2qE7"
   },
   "outputs": [],
   "source": [
    "#plot for years\n",
    "#create a pivot table\n",
    "sns.set_theme() #set theme \n",
    "year_table = table.pivot_table(index = 'year', values = 'title', aggfunc='count').rename(columns = {'title':'count'}).reset_index()"
   ]
  },
  {
   "cell_type": "code",
   "execution_count": 36,
   "metadata": {
    "colab": {
     "base_uri": "https://localhost:8080/",
     "height": 402
    },
    "id": "QPkJ-mop9kdD",
    "outputId": "67f3acd5-a5c5-44c0-a3a9-9f7ff032668a"
   },
   "outputs": [
    {
     "data": {
      "text/html": [
       "<div>\n",
       "<style scoped>\n",
       "    .dataframe tbody tr th:only-of-type {\n",
       "        vertical-align: middle;\n",
       "    }\n",
       "\n",
       "    .dataframe tbody tr th {\n",
       "        vertical-align: top;\n",
       "    }\n",
       "\n",
       "    .dataframe thead th {\n",
       "        text-align: right;\n",
       "    }\n",
       "</style>\n",
       "<table border=\"1\" class=\"dataframe\">\n",
       "  <thead>\n",
       "    <tr style=\"text-align: right;\">\n",
       "      <th></th>\n",
       "      <th>year</th>\n",
       "      <th>count</th>\n",
       "    </tr>\n",
       "  </thead>\n",
       "  <tbody>\n",
       "    <tr>\n",
       "      <th>0</th>\n",
       "      <td>1915</td>\n",
       "      <td>3</td>\n",
       "    </tr>\n",
       "    <tr>\n",
       "      <th>1</th>\n",
       "      <td>1916</td>\n",
       "      <td>2</td>\n",
       "    </tr>\n",
       "    <tr>\n",
       "      <th>2</th>\n",
       "      <td>1917</td>\n",
       "      <td>1</td>\n",
       "    </tr>\n",
       "    <tr>\n",
       "      <th>3</th>\n",
       "      <td>1919</td>\n",
       "      <td>1</td>\n",
       "    </tr>\n",
       "    <tr>\n",
       "      <th>4</th>\n",
       "      <td>1920</td>\n",
       "      <td>2</td>\n",
       "    </tr>\n",
       "  </tbody>\n",
       "</table>\n",
       "</div>"
      ],
      "text/plain": [
       "   year  count\n",
       "0  1915      3\n",
       "1  1916      2\n",
       "2  1917      1\n",
       "3  1919      1\n",
       "4  1920      2"
      ]
     },
     "execution_count": 36,
     "metadata": {},
     "output_type": "execute_result"
    }
   ],
   "source": [
    "year_table.head()"
   ]
  },
  {
   "cell_type": "code",
   "execution_count": 37,
   "metadata": {
    "colab": {
     "base_uri": "https://localhost:8080/",
     "height": 498
    },
    "id": "yum-nTIl9iyQ",
    "outputId": "d06e2c13-930e-4a4c-e39f-9bfe48cd174c"
   },
   "outputs": [
    {
     "data": {
      "text/plain": [
       "<AxesSubplot:title={'center':'Count of films for each year'}, xlabel='year'>"
      ]
     },
     "execution_count": 37,
     "metadata": {},
     "output_type": "execute_result"
    },
    {
     "data": {
      "image/png": "[encoded data removed]",
      "text/plain": [
       "<Figure size 1800x720 with 1 Axes>"
      ]
     },
     "metadata": {},
     "output_type": "display_data"
    }
   ],
   "source": [
    "year_table.plot(x = 'year', y = 'count', kind = 'bar', figsize = (25, 10), grid = True, title = 'Count of films for each year')#visualize year_table with method .plot()"
   ]
  },
  {
   "cell_type": "code",
   "execution_count": 38,
   "metadata": {
    "id": "1a675LcO-KjG"
   },
   "outputs": [],
   "source": [
    "def year_inter(row):\n",
    "  '''divide from year intervals'''\n",
    "  if 1915 <= row['year'] <= 1960:\n",
    "    return '1915-1960'\n",
    "  if 1960 < row['year'] <= 2000:\n",
    "    return '1961-2000'\n",
    "  if 2000 < row['year'] <= 2010:\n",
    "    return '2001-2010'\n",
    "  if 2010 < row['year'] <= 2021:\n",
    "    return '2011-2021'"
   ]
  },
  {
   "cell_type": "code",
   "execution_count": 39,
   "metadata": {
    "id": "EM5QD8e9Ab7i"
   },
   "outputs": [],
   "source": [
    "table['year_intervals'] = table.apply(year_inter, axis=1)#implement function year_inter to 'table'"
   ]
  },
  {
   "cell_type": "code",
   "execution_count": 40,
   "metadata": {
    "colab": {
     "base_uri": "https://localhost:8080/",
     "height": 454
    },
    "id": "AhyzVOeZAlxL",
    "outputId": "b6ab4f29-973c-4ec4-86d4-063d90603416"
   },
   "outputs": [
    {
     "data": {
      "text/plain": [
       "<seaborn.axisgrid.JointGrid at 0x2b6564f26a0>"
      ]
     },
     "execution_count": 40,
     "metadata": {},
     "output_type": "execute_result"
    },
    {
     "data": {
      "image/png": "[encoded data removed]",
      "text/plain": [
       "<Figure size 432x432 with 3 Axes>"
      ]
     },
     "metadata": {},
     "output_type": "display_data"
    }
   ],
   "source": [
    "#check ratio of ratings for year intervals\n",
    "sns.jointplot(data=table, x='imdb_rating', y = 'kinopoisk_rating', hue='year_intervals', palette='colorblind')"
   ]
  },
  {
   "cell_type": "code",
   "execution_count": 41,
   "metadata": {},
   "outputs": [
    {
     "data": {
      "text/html": [
       "<div>\n",
       "<style scoped>\n",
       "    .dataframe tbody tr th:only-of-type {\n",
       "        vertical-align: middle;\n",
       "    }\n",
       "\n",
       "    .dataframe tbody tr th {\n",
       "        vertical-align: top;\n",
       "    }\n",
       "\n",
       "    .dataframe thead th {\n",
       "        text-align: right;\n",
       "    }\n",
       "</style>\n",
       "<table border=\"1\" class=\"dataframe\">\n",
       "  <thead>\n",
       "    <tr style=\"text-align: right;\">\n",
       "      <th></th>\n",
       "      <th>year</th>\n",
       "      <th>imdb_rating</th>\n",
       "      <th>kinopoisk_rating</th>\n",
       "      <th>duration</th>\n",
       "      <th>mean_rating</th>\n",
       "    </tr>\n",
       "  </thead>\n",
       "  <tbody>\n",
       "    <tr>\n",
       "      <th>year</th>\n",
       "      <td>1.000000</td>\n",
       "      <td>-0.328744</td>\n",
       "      <td>-0.382857</td>\n",
       "      <td>-0.122152</td>\n",
       "      <td>-0.367065</td>\n",
       "    </tr>\n",
       "    <tr>\n",
       "      <th>imdb_rating</th>\n",
       "      <td>-0.328744</td>\n",
       "      <td>1.000000</td>\n",
       "      <td>0.843172</td>\n",
       "      <td>0.307854</td>\n",
       "      <td>0.971384</td>\n",
       "    </tr>\n",
       "    <tr>\n",
       "      <th>kinopoisk_rating</th>\n",
       "      <td>-0.382857</td>\n",
       "      <td>0.843172</td>\n",
       "      <td>1.000000</td>\n",
       "      <td>0.344282</td>\n",
       "      <td>0.958451</td>\n",
       "    </tr>\n",
       "    <tr>\n",
       "      <th>duration</th>\n",
       "      <td>-0.122152</td>\n",
       "      <td>0.307854</td>\n",
       "      <td>0.344282</td>\n",
       "      <td>1.000000</td>\n",
       "      <td>0.328741</td>\n",
       "    </tr>\n",
       "    <tr>\n",
       "      <th>mean_rating</th>\n",
       "      <td>-0.367065</td>\n",
       "      <td>0.971384</td>\n",
       "      <td>0.958451</td>\n",
       "      <td>0.328741</td>\n",
       "      <td>1.000000</td>\n",
       "    </tr>\n",
       "  </tbody>\n",
       "</table>\n",
       "</div>"
      ],
      "text/plain": [
       "                      year  imdb_rating  kinopoisk_rating  duration  \\\n",
       "year              1.000000    -0.328744         -0.382857 -0.122152   \n",
       "imdb_rating      -0.328744     1.000000          0.843172  0.307854   \n",
       "kinopoisk_rating -0.382857     0.843172          1.000000  0.344282   \n",
       "duration         -0.122152     0.307854          0.344282  1.000000   \n",
       "mean_rating      -0.367065     0.971384          0.958451  0.328741   \n",
       "\n",
       "                  mean_rating  \n",
       "year                -0.367065  \n",
       "imdb_rating          0.971384  \n",
       "kinopoisk_rating     0.958451  \n",
       "duration             0.328741  \n",
       "mean_rating          1.000000  "
      ]
     },
     "execution_count": 41,
     "metadata": {},
     "output_type": "execute_result"
    }
   ],
   "source": [
    "table.corr()"
   ]
  },
  {
   "cell_type": "code",
   "execution_count": 42,
   "metadata": {},
   "outputs": [],
   "source": [
    "del table['imdb_rating']\n",
    "del table['kinopoisk_rating']"
   ]
  },
  {
   "cell_type": "markdown",
   "metadata": {},
   "source": [
    "Ratings have high correlation, then we will use mean_rate for next calculations"
   ]
  },
  {
   "cell_type": "code",
   "execution_count": 44,
   "metadata": {
    "id": "72r5VRa8mD1s"
   },
   "outputs": [],
   "source": [
    "year_table['mean_rate'] = table.pivot_table(index = 'year', values = 'mean_rating', aggfunc = 'mean').reset_index()['mean_rating']#create new column with mean of ratings for each year\n",
    "year_table['mean_duration'] = table.pivot_table(index = 'year', values = 'duration', aggfunc = 'mean').reset_index()['duration']#create new column with mean of duration for each year"
   ]
  },
  {
   "cell_type": "code",
   "execution_count": 45,
   "metadata": {},
   "outputs": [
    {
     "data": {
      "text/plain": [
       "<AxesSubplot:xlabel='year'>"
      ]
     },
     "execution_count": 45,
     "metadata": {},
     "output_type": "execute_result"
    },
    {
     "data": {
      "image/png": "[encoded data removed]",
      "text/plain": [
       "<Figure size 432x288 with 1 Axes>"
      ]
     },
     "metadata": {},
     "output_type": "display_data"
    }
   ],
   "source": [
    "year_table.plot(x = 'year')"
   ]
  },
  {
   "cell_type": "code",
   "execution_count": 48,
   "metadata": {},
   "outputs": [],
   "source": [
    "# we need to normalize data\n",
    "from sklearn.preprocessing import StandardScaler\n",
    "year_stan = pd.DataFrame(StandardScaler().fit_transform(year_table.iloc[:, 1:]))"
   ]
  },
  {
   "cell_type": "code",
   "execution_count": 49,
   "metadata": {},
   "outputs": [],
   "source": [
    "year_stan.columns = ['count', 'rate', 'duration']\n",
    "year_stan['year'] = year_table['year']"
   ]
  },
  {
   "cell_type": "code",
   "execution_count": 50,
   "metadata": {
    "colab": {
     "base_uri": "https://localhost:8080/",
     "height": 195
    },
    "id": "kySXxLU8m-Py",
    "outputId": "c5c395ff-6c11-43e7-a0e2-b81b36330617"
   },
   "outputs": [
    {
     "data": {
      "text/html": [
       "<div>\n",
       "<style scoped>\n",
       "    .dataframe tbody tr th:only-of-type {\n",
       "        vertical-align: middle;\n",
       "    }\n",
       "\n",
       "    .dataframe tbody tr th {\n",
       "        vertical-align: top;\n",
       "    }\n",
       "\n",
       "    .dataframe thead th {\n",
       "        text-align: right;\n",
       "    }\n",
       "</style>\n",
       "<table border=\"1\" class=\"dataframe\">\n",
       "  <thead>\n",
       "    <tr style=\"text-align: right;\">\n",
       "      <th></th>\n",
       "      <th>count</th>\n",
       "      <th>rate</th>\n",
       "      <th>duration</th>\n",
       "      <th>year</th>\n",
       "    </tr>\n",
       "  </thead>\n",
       "  <tbody>\n",
       "    <tr>\n",
       "      <th>84</th>\n",
       "      <td>0.246907</td>\n",
       "      <td>-0.649859</td>\n",
       "      <td>0.230151</td>\n",
       "      <td>2001</td>\n",
       "    </tr>\n",
       "    <tr>\n",
       "      <th>22</th>\n",
       "      <td>-0.517972</td>\n",
       "      <td>0.818389</td>\n",
       "      <td>0.282380</td>\n",
       "      <td>1939</td>\n",
       "    </tr>\n",
       "    <tr>\n",
       "      <th>42</th>\n",
       "      <td>-0.480926</td>\n",
       "      <td>0.474059</td>\n",
       "      <td>0.772908</td>\n",
       "      <td>1959</td>\n",
       "    </tr>\n",
       "    <tr>\n",
       "      <th>43</th>\n",
       "      <td>-0.456956</td>\n",
       "      <td>0.488962</td>\n",
       "      <td>0.530037</td>\n",
       "      <td>1960</td>\n",
       "    </tr>\n",
       "    <tr>\n",
       "      <th>61</th>\n",
       "      <td>-0.382865</td>\n",
       "      <td>0.168830</td>\n",
       "      <td>0.263199</td>\n",
       "      <td>1978</td>\n",
       "    </tr>\n",
       "  </tbody>\n",
       "</table>\n",
       "</div>"
      ],
      "text/plain": [
       "       count      rate  duration  year\n",
       "84  0.246907 -0.649859  0.230151  2001\n",
       "22 -0.517972  0.818389  0.282380  1939\n",
       "42 -0.480926  0.474059  0.772908  1959\n",
       "43 -0.456956  0.488962  0.530037  1960\n",
       "61 -0.382865  0.168830  0.263199  1978"
      ]
     },
     "execution_count": 50,
     "metadata": {},
     "output_type": "execute_result"
    }
   ],
   "source": [
    "year_stan.sample(5)"
   ]
  },
  {
   "cell_type": "code",
   "execution_count": 51,
   "metadata": {},
   "outputs": [
    {
     "data": {
      "text/plain": [
       "<AxesSubplot:xlabel='year'>"
      ]
     },
     "execution_count": 51,
     "metadata": {},
     "output_type": "execute_result"
    },
    {
     "data": {
      "image/png": "[encoded data removed]",
      "text/plain": [
       "<Figure size 1440x720 with 1 Axes>"
      ]
     },
     "metadata": {},
     "output_type": "display_data"
    }
   ],
   "source": [
    "year_stan.plot(x = 'year',figsize = (20, 10))"
   ]
  },
  {
   "cell_type": "code",
   "execution_count": 52,
   "metadata": {},
   "outputs": [
    {
     "data": {
      "text/html": [
       "<div>\n",
       "<style scoped>\n",
       "    .dataframe tbody tr th:only-of-type {\n",
       "        vertical-align: middle;\n",
       "    }\n",
       "\n",
       "    .dataframe tbody tr th {\n",
       "        vertical-align: top;\n",
       "    }\n",
       "\n",
       "    .dataframe thead th {\n",
       "        text-align: right;\n",
       "    }\n",
       "</style>\n",
       "<table border=\"1\" class=\"dataframe\">\n",
       "  <thead>\n",
       "    <tr style=\"text-align: right;\">\n",
       "      <th></th>\n",
       "      <th>count</th>\n",
       "      <th>rate</th>\n",
       "      <th>duration</th>\n",
       "      <th>year</th>\n",
       "    </tr>\n",
       "  </thead>\n",
       "  <tbody>\n",
       "    <tr>\n",
       "      <th>count</th>\n",
       "      <td>1.000000</td>\n",
       "      <td>-0.782254</td>\n",
       "      <td>-0.056622</td>\n",
       "      <td>0.688644</td>\n",
       "    </tr>\n",
       "    <tr>\n",
       "      <th>rate</th>\n",
       "      <td>-0.782254</td>\n",
       "      <td>1.000000</td>\n",
       "      <td>-0.133303</td>\n",
       "      <td>-0.833338</td>\n",
       "    </tr>\n",
       "    <tr>\n",
       "      <th>duration</th>\n",
       "      <td>-0.056622</td>\n",
       "      <td>-0.133303</td>\n",
       "      <td>1.000000</td>\n",
       "      <td>0.107228</td>\n",
       "    </tr>\n",
       "    <tr>\n",
       "      <th>year</th>\n",
       "      <td>0.688644</td>\n",
       "      <td>-0.833338</td>\n",
       "      <td>0.107228</td>\n",
       "      <td>1.000000</td>\n",
       "    </tr>\n",
       "  </tbody>\n",
       "</table>\n",
       "</div>"
      ],
      "text/plain": [
       "             count      rate  duration      year\n",
       "count     1.000000 -0.782254 -0.056622  0.688644\n",
       "rate     -0.782254  1.000000 -0.133303 -0.833338\n",
       "duration -0.056622 -0.133303  1.000000  0.107228\n",
       "year      0.688644 -0.833338  0.107228  1.000000"
      ]
     },
     "execution_count": 52,
     "metadata": {},
     "output_type": "execute_result"
    }
   ],
   "source": [
    "year_stan.corr()"
   ]
  },
  {
   "cell_type": "markdown",
   "metadata": {},
   "source": [
    "Year and rating have high negative correlation(count of films can affect that correlation)"
   ]
  },
  {
   "cell_type": "markdown",
   "metadata": {},
   "source": [
    "> Country"
   ]
  },
  {
   "cell_type": "code",
   "execution_count": 53,
   "metadata": {},
   "outputs": [],
   "source": [
    "country_table = table.pivot_table(index = 'country', values = 'title', aggfunc='count').rename(columns = {'title':'count'}).reset_index()\n",
    "country_table['mean_rate'] = table.pivot_table(index = 'country', values = 'mean_rating', aggfunc = 'mean').reset_index()['mean_rating']"
   ]
  },
  {
   "cell_type": "code",
   "execution_count": 54,
   "metadata": {},
   "outputs": [
    {
     "data": {
      "text/html": [
       "<div>\n",
       "<style scoped>\n",
       "    .dataframe tbody tr th:only-of-type {\n",
       "        vertical-align: middle;\n",
       "    }\n",
       "\n",
       "    .dataframe tbody tr th {\n",
       "        vertical-align: top;\n",
       "    }\n",
       "\n",
       "    .dataframe thead th {\n",
       "        text-align: right;\n",
       "    }\n",
       "</style>\n",
       "<table border=\"1\" class=\"dataframe\">\n",
       "  <thead>\n",
       "    <tr style=\"text-align: right;\">\n",
       "      <th></th>\n",
       "      <th>country</th>\n",
       "      <th>count</th>\n",
       "      <th>mean_rate</th>\n",
       "    </tr>\n",
       "  </thead>\n",
       "  <tbody>\n",
       "    <tr>\n",
       "      <th>0</th>\n",
       "      <td>Австралия</td>\n",
       "      <td>356</td>\n",
       "      <td>5.898034</td>\n",
       "    </tr>\n",
       "    <tr>\n",
       "      <th>1</th>\n",
       "      <td>Австрия</td>\n",
       "      <td>68</td>\n",
       "      <td>6.395588</td>\n",
       "    </tr>\n",
       "    <tr>\n",
       "      <th>2</th>\n",
       "      <td>Азербайджан</td>\n",
       "      <td>3</td>\n",
       "      <td>5.433333</td>\n",
       "    </tr>\n",
       "    <tr>\n",
       "      <th>3</th>\n",
       "      <td>Албания</td>\n",
       "      <td>2</td>\n",
       "      <td>6.550000</td>\n",
       "    </tr>\n",
       "    <tr>\n",
       "      <th>4</th>\n",
       "      <td>Алжир</td>\n",
       "      <td>4</td>\n",
       "      <td>6.050000</td>\n",
       "    </tr>\n",
       "  </tbody>\n",
       "</table>\n",
       "</div>"
      ],
      "text/plain": [
       "       country  count  mean_rate\n",
       "0    Австралия    356   5.898034\n",
       "1      Австрия     68   6.395588\n",
       "2  Азербайджан      3   5.433333\n",
       "3      Албания      2   6.550000\n",
       "4        Алжир      4   6.050000"
      ]
     },
     "execution_count": 54,
     "metadata": {},
     "output_type": "execute_result"
    }
   ],
   "source": [
    "country_table.head()"
   ]
  },
  {
   "cell_type": "code",
   "execution_count": 55,
   "metadata": {},
   "outputs": [],
   "source": [
    "cntry_stan = pd.DataFrame(StandardScaler().fit_transform(country_table.iloc[:, 1:]))\n",
    "cntry_stan.columns = ['count', 'rate']\n",
    "cntry_stan['country'] = country_table['country']"
   ]
  },
  {
   "cell_type": "code",
   "execution_count": 60,
   "metadata": {},
   "outputs": [
    {
     "data": {
      "text/plain": [
       "<AxesSubplot:xlabel='country'>"
      ]
     },
     "execution_count": 60,
     "metadata": {},
     "output_type": "execute_result"
    },
    {
     "data": {
      "image/png": "[encoded data removed]",
      "text/plain": [
       "<Figure size 1440x1440 with 1 Axes>"
      ]
     },
     "metadata": {},
     "output_type": "display_data"
    }
   ],
   "source": [
    "cntry_stan.plot(x = 'country',kind = 'bar', figsize = (20, 20))\n"
   ]
  },
  {
   "cell_type": "code",
   "execution_count": 61,
   "metadata": {},
   "outputs": [
    {
     "data": {
      "text/html": [
       "<div>\n",
       "<style scoped>\n",
       "    .dataframe tbody tr th:only-of-type {\n",
       "        vertical-align: middle;\n",
       "    }\n",
       "\n",
       "    .dataframe tbody tr th {\n",
       "        vertical-align: top;\n",
       "    }\n",
       "\n",
       "    .dataframe thead th {\n",
       "        text-align: right;\n",
       "    }\n",
       "</style>\n",
       "<table border=\"1\" class=\"dataframe\">\n",
       "  <thead>\n",
       "    <tr style=\"text-align: right;\">\n",
       "      <th></th>\n",
       "      <th>count</th>\n",
       "      <th>rate</th>\n",
       "    </tr>\n",
       "  </thead>\n",
       "  <tbody>\n",
       "    <tr>\n",
       "      <th>count</th>\n",
       "      <td>1.000000</td>\n",
       "      <td>-0.100284</td>\n",
       "    </tr>\n",
       "    <tr>\n",
       "      <th>rate</th>\n",
       "      <td>-0.100284</td>\n",
       "      <td>1.000000</td>\n",
       "    </tr>\n",
       "  </tbody>\n",
       "</table>\n",
       "</div>"
      ],
      "text/plain": [
       "          count      rate\n",
       "count  1.000000 -0.100284\n",
       "rate  -0.100284  1.000000"
      ]
     },
     "execution_count": 61,
     "metadata": {},
     "output_type": "execute_result"
    }
   ],
   "source": [
    "cntry_stan.corr()"
   ]
  },
  {
   "cell_type": "code",
   "execution_count": 63,
   "metadata": {},
   "outputs": [
    {
     "name": "stdout",
     "output_type": "stream",
     "text": [
      "<class 'pandas.core.frame.DataFrame'>\n",
      "Int64Index: 26953 entries, 0 to 27238\n",
      "Data columns (total 6 columns):\n",
      " #   Column       Non-Null Count  Dtype  \n",
      "---  ------       --------------  -----  \n",
      " 0   title        26953 non-null  object \n",
      " 1   year         26953 non-null  int32  \n",
      " 2   country      26953 non-null  object \n",
      " 3   genre        26953 non-null  object \n",
      " 4   duration     26953 non-null  int32  \n",
      " 5   mean_rating  26953 non-null  float64\n",
      "dtypes: float64(1), int32(2), object(3)\n",
      "memory usage: 1.2+ MB\n"
     ]
    }
   ],
   "source": [
    "del table['year_intervals']\n",
    "table.info()"
   ]
  },
  {
   "cell_type": "code",
   "execution_count": 121,
   "metadata": {},
   "outputs": [],
   "source": [
    "from sklearn.preprocessing import OneHotEncoder\n",
    "enc = OneHotEncoder()\n",
    "table1 = enc.fit_transform(table[['country']]).toarray()\n",
    "table1 = pd.DataFrame(table1, columns=enc.categories_)"
   ]
  },
  {
   "cell_type": "code",
   "execution_count": 172,
   "metadata": {},
   "outputs": [],
   "source": [
    "table2 = pd.DataFrame(StandardScaler().fit_transform(table[['year', 'duration', 'mean_rating']]), columns = ['year', 'duration', 'mean_rating'])"
   ]
  },
  {
   "cell_type": "code",
   "execution_count": 173,
   "metadata": {},
   "outputs": [],
   "source": [
    "table1['year'] = table2['year']\n",
    "table1['duration'] = table2['duration']\n",
    "table1['mean_rating'] = table2['mean_rating']"
   ]
  },
  {
   "cell_type": "code",
   "execution_count": 66,
   "metadata": {},
   "outputs": [],
   "source": [
    "table = table.drop(table[table.genre.isna()].index)\n",
    "table = table.drop(table[table.genre == '[]'].index)"
   ]
  },
  {
   "cell_type": "code",
   "execution_count": 67,
   "metadata": {},
   "outputs": [
    {
     "name": "stdout",
     "output_type": "stream",
     "text": [
      "['Драмы', 'Криминал', 'Детективы', 'Фэнтези', 'Документальные', 'Музыкальные', 'Биографические', 'Мелодрамы', 'Военные', 'Исторические', 'Комедии', 'Приключения', 'Фантастика', 'Семейные', 'Триллеры', 'Боевики', 'Спортивные', 'Познавательные', 'Вестерны', 'Короткометражные', 'Мюзиклы', 'Путешествия', 'Ужасы', 'Детские', 'Арт-хаус', 'Зарубежные', 'Наши', 'Украинские', 'Эротика']\n"
     ]
    }
   ],
   "source": [
    "genres = []\n",
    "for i in table.loc[:, 'genre']:\n",
    "    g = i[2:-2].split(\"', '\")\n",
    "    for j in g:\n",
    "        if j not in genres:\n",
    "            genres.append(j)\n",
    "print(genres)\n"
   ]
  },
  {
   "cell_type": "code",
   "execution_count": 68,
   "metadata": {},
   "outputs": [],
   "source": [
    "genres_df = pd.DataFrame(columns=genres)"
   ]
  },
  {
   "cell_type": "code",
   "execution_count": 69,
   "metadata": {},
   "outputs": [],
   "source": [
    "table = table.reset_index()\n",
    "del table['index']"
   ]
  },
  {
   "cell_type": "code",
   "execution_count": 70,
   "metadata": {},
   "outputs": [],
   "source": [
    "for i in range(len(table['genre'])):\n",
    "    for j in genres:\n",
    "        if j in table.loc[i, 'genre']:\n",
    "            genres_df.loc[i, j] = 1\n",
    "        else:\n",
    "            genres_df.loc[i, j] = 0"
   ]
  },
  {
   "cell_type": "code",
   "execution_count": 77,
   "metadata": {},
   "outputs": [
    {
     "name": "stdout",
     "output_type": "stream",
     "text": [
      "<class 'pandas.core.frame.DataFrame'>\n",
      "Int64Index: 26952 entries, 0 to 26951\n",
      "Data columns (total 29 columns):\n",
      " #   Column            Non-Null Count  Dtype \n",
      "---  ------            --------------  ----- \n",
      " 0   Драмы             26952 non-null  object\n",
      " 1   Криминал          26952 non-null  object\n",
      " 2   Детективы         26952 non-null  object\n",
      " 3   Фэнтези           26952 non-null  object\n",
      " 4   Документальные    26952 non-null  object\n",
      " 5   Музыкальные       26952 non-null  object\n",
      " 6   Биографические    26952 non-null  object\n",
      " 7   Мелодрамы         26952 non-null  object\n",
      " 8   Военные           26952 non-null  object\n",
      " 9   Исторические      26952 non-null  object\n",
      " 10  Комедии           26952 non-null  object\n",
      " 11  Приключения       26952 non-null  object\n",
      " 12  Фантастика        26952 non-null  object\n",
      " 13  Семейные          26952 non-null  object\n",
      " 14  Триллеры          26952 non-null  object\n",
      " 15  Боевики           26952 non-null  object\n",
      " 16  Спортивные        26952 non-null  object\n",
      " 17  Познавательные    26952 non-null  object\n",
      " 18  Вестерны          26952 non-null  object\n",
      " 19  Короткометражные  26952 non-null  object\n",
      " 20  Мюзиклы           26952 non-null  object\n",
      " 21  Путешествия       26952 non-null  object\n",
      " 22  Ужасы             26952 non-null  object\n",
      " 23  Детские           26952 non-null  object\n",
      " 24  Арт-хаус          26952 non-null  object\n",
      " 25  Зарубежные        26952 non-null  object\n",
      " 26  Наши              26952 non-null  object\n",
      " 27  Украинские        26952 non-null  object\n",
      " 28  Эротика           26952 non-null  object\n",
      "dtypes: object(29)\n",
      "memory usage: 7.2+ MB\n"
     ]
    }
   ],
   "source": [
    "genres_df.info()"
   ]
  },
  {
   "cell_type": "code",
   "execution_count": 72,
   "metadata": {},
   "outputs": [
    {
     "data": {
      "text/plain": [
       "(26952, 29)"
      ]
     },
     "execution_count": 72,
     "metadata": {},
     "output_type": "execute_result"
    }
   ],
   "source": [
    "genres_df.shape"
   ]
  },
  {
   "cell_type": "code",
   "execution_count": 129,
   "metadata": {},
   "outputs": [
    {
     "data": {
      "text/html": [
       "<div>\n",
       "<style scoped>\n",
       "    .dataframe tbody tr th:only-of-type {\n",
       "        vertical-align: middle;\n",
       "    }\n",
       "\n",
       "    .dataframe tbody tr th {\n",
       "        vertical-align: top;\n",
       "    }\n",
       "\n",
       "    .dataframe thead th {\n",
       "        text-align: right;\n",
       "    }\n",
       "</style>\n",
       "<table border=\"1\" class=\"dataframe\">\n",
       "  <thead>\n",
       "    <tr style=\"text-align: right;\">\n",
       "      <th></th>\n",
       "      <th>(Австралия,)</th>\n",
       "      <th>(Австрия,)</th>\n",
       "      <th>(Азербайджан,)</th>\n",
       "      <th>(Албания,)</th>\n",
       "      <th>(Алжир,)</th>\n",
       "      <th>(Андорра,)</th>\n",
       "      <th>(Аргентина,)</th>\n",
       "      <th>(Армения,)</th>\n",
       "      <th>(Аруба,)</th>\n",
       "      <th>(Бангладеш,)</th>\n",
       "      <th>...</th>\n",
       "      <th>Короткометражные</th>\n",
       "      <th>Мюзиклы</th>\n",
       "      <th>Путешествия</th>\n",
       "      <th>Ужасы</th>\n",
       "      <th>Детские</th>\n",
       "      <th>Арт-хаус</th>\n",
       "      <th>Зарубежные</th>\n",
       "      <th>Наши</th>\n",
       "      <th>Украинские</th>\n",
       "      <th>Эротика</th>\n",
       "    </tr>\n",
       "  </thead>\n",
       "  <tbody>\n",
       "    <tr>\n",
       "      <th>0</th>\n",
       "      <td>0.0</td>\n",
       "      <td>0.0</td>\n",
       "      <td>0.0</td>\n",
       "      <td>0.0</td>\n",
       "      <td>0.0</td>\n",
       "      <td>0.0</td>\n",
       "      <td>0.0</td>\n",
       "      <td>0.0</td>\n",
       "      <td>0.0</td>\n",
       "      <td>0.0</td>\n",
       "      <td>...</td>\n",
       "      <td>0</td>\n",
       "      <td>0</td>\n",
       "      <td>0</td>\n",
       "      <td>0</td>\n",
       "      <td>0</td>\n",
       "      <td>0</td>\n",
       "      <td>0</td>\n",
       "      <td>0</td>\n",
       "      <td>0</td>\n",
       "      <td>0</td>\n",
       "    </tr>\n",
       "    <tr>\n",
       "      <th>1</th>\n",
       "      <td>0.0</td>\n",
       "      <td>0.0</td>\n",
       "      <td>0.0</td>\n",
       "      <td>0.0</td>\n",
       "      <td>0.0</td>\n",
       "      <td>0.0</td>\n",
       "      <td>0.0</td>\n",
       "      <td>0.0</td>\n",
       "      <td>0.0</td>\n",
       "      <td>0.0</td>\n",
       "      <td>...</td>\n",
       "      <td>0</td>\n",
       "      <td>0</td>\n",
       "      <td>0</td>\n",
       "      <td>0</td>\n",
       "      <td>0</td>\n",
       "      <td>0</td>\n",
       "      <td>0</td>\n",
       "      <td>0</td>\n",
       "      <td>0</td>\n",
       "      <td>0</td>\n",
       "    </tr>\n",
       "    <tr>\n",
       "      <th>2</th>\n",
       "      <td>0.0</td>\n",
       "      <td>0.0</td>\n",
       "      <td>0.0</td>\n",
       "      <td>0.0</td>\n",
       "      <td>0.0</td>\n",
       "      <td>0.0</td>\n",
       "      <td>0.0</td>\n",
       "      <td>0.0</td>\n",
       "      <td>0.0</td>\n",
       "      <td>0.0</td>\n",
       "      <td>...</td>\n",
       "      <td>0</td>\n",
       "      <td>0</td>\n",
       "      <td>0</td>\n",
       "      <td>0</td>\n",
       "      <td>0</td>\n",
       "      <td>0</td>\n",
       "      <td>0</td>\n",
       "      <td>0</td>\n",
       "      <td>0</td>\n",
       "      <td>0</td>\n",
       "    </tr>\n",
       "    <tr>\n",
       "      <th>3</th>\n",
       "      <td>0.0</td>\n",
       "      <td>0.0</td>\n",
       "      <td>0.0</td>\n",
       "      <td>0.0</td>\n",
       "      <td>0.0</td>\n",
       "      <td>0.0</td>\n",
       "      <td>0.0</td>\n",
       "      <td>0.0</td>\n",
       "      <td>0.0</td>\n",
       "      <td>0.0</td>\n",
       "      <td>...</td>\n",
       "      <td>0</td>\n",
       "      <td>0</td>\n",
       "      <td>0</td>\n",
       "      <td>0</td>\n",
       "      <td>0</td>\n",
       "      <td>0</td>\n",
       "      <td>0</td>\n",
       "      <td>0</td>\n",
       "      <td>0</td>\n",
       "      <td>0</td>\n",
       "    </tr>\n",
       "    <tr>\n",
       "      <th>4</th>\n",
       "      <td>0.0</td>\n",
       "      <td>0.0</td>\n",
       "      <td>0.0</td>\n",
       "      <td>0.0</td>\n",
       "      <td>0.0</td>\n",
       "      <td>0.0</td>\n",
       "      <td>0.0</td>\n",
       "      <td>0.0</td>\n",
       "      <td>0.0</td>\n",
       "      <td>0.0</td>\n",
       "      <td>...</td>\n",
       "      <td>0</td>\n",
       "      <td>0</td>\n",
       "      <td>0</td>\n",
       "      <td>0</td>\n",
       "      <td>0</td>\n",
       "      <td>0</td>\n",
       "      <td>0</td>\n",
       "      <td>0</td>\n",
       "      <td>0</td>\n",
       "      <td>0</td>\n",
       "    </tr>\n",
       "    <tr>\n",
       "      <th>...</th>\n",
       "      <td>...</td>\n",
       "      <td>...</td>\n",
       "      <td>...</td>\n",
       "      <td>...</td>\n",
       "      <td>...</td>\n",
       "      <td>...</td>\n",
       "      <td>...</td>\n",
       "      <td>...</td>\n",
       "      <td>...</td>\n",
       "      <td>...</td>\n",
       "      <td>...</td>\n",
       "      <td>...</td>\n",
       "      <td>...</td>\n",
       "      <td>...</td>\n",
       "      <td>...</td>\n",
       "      <td>...</td>\n",
       "      <td>...</td>\n",
       "      <td>...</td>\n",
       "      <td>...</td>\n",
       "      <td>...</td>\n",
       "      <td>...</td>\n",
       "    </tr>\n",
       "    <tr>\n",
       "      <th>26947</th>\n",
       "      <td>0.0</td>\n",
       "      <td>0.0</td>\n",
       "      <td>0.0</td>\n",
       "      <td>0.0</td>\n",
       "      <td>0.0</td>\n",
       "      <td>0.0</td>\n",
       "      <td>0.0</td>\n",
       "      <td>0.0</td>\n",
       "      <td>0.0</td>\n",
       "      <td>0.0</td>\n",
       "      <td>...</td>\n",
       "      <td>0</td>\n",
       "      <td>0</td>\n",
       "      <td>0</td>\n",
       "      <td>0</td>\n",
       "      <td>0</td>\n",
       "      <td>0</td>\n",
       "      <td>0</td>\n",
       "      <td>0</td>\n",
       "      <td>0</td>\n",
       "      <td>0</td>\n",
       "    </tr>\n",
       "    <tr>\n",
       "      <th>26948</th>\n",
       "      <td>0.0</td>\n",
       "      <td>0.0</td>\n",
       "      <td>0.0</td>\n",
       "      <td>0.0</td>\n",
       "      <td>0.0</td>\n",
       "      <td>0.0</td>\n",
       "      <td>0.0</td>\n",
       "      <td>0.0</td>\n",
       "      <td>0.0</td>\n",
       "      <td>0.0</td>\n",
       "      <td>...</td>\n",
       "      <td>0</td>\n",
       "      <td>0</td>\n",
       "      <td>0</td>\n",
       "      <td>0</td>\n",
       "      <td>0</td>\n",
       "      <td>0</td>\n",
       "      <td>0</td>\n",
       "      <td>0</td>\n",
       "      <td>0</td>\n",
       "      <td>0</td>\n",
       "    </tr>\n",
       "    <tr>\n",
       "      <th>26949</th>\n",
       "      <td>0.0</td>\n",
       "      <td>0.0</td>\n",
       "      <td>0.0</td>\n",
       "      <td>0.0</td>\n",
       "      <td>0.0</td>\n",
       "      <td>0.0</td>\n",
       "      <td>0.0</td>\n",
       "      <td>0.0</td>\n",
       "      <td>0.0</td>\n",
       "      <td>0.0</td>\n",
       "      <td>...</td>\n",
       "      <td>0</td>\n",
       "      <td>0</td>\n",
       "      <td>0</td>\n",
       "      <td>0</td>\n",
       "      <td>0</td>\n",
       "      <td>0</td>\n",
       "      <td>0</td>\n",
       "      <td>0</td>\n",
       "      <td>0</td>\n",
       "      <td>0</td>\n",
       "    </tr>\n",
       "    <tr>\n",
       "      <th>26950</th>\n",
       "      <td>0.0</td>\n",
       "      <td>0.0</td>\n",
       "      <td>0.0</td>\n",
       "      <td>0.0</td>\n",
       "      <td>0.0</td>\n",
       "      <td>0.0</td>\n",
       "      <td>0.0</td>\n",
       "      <td>0.0</td>\n",
       "      <td>0.0</td>\n",
       "      <td>0.0</td>\n",
       "      <td>...</td>\n",
       "      <td>0</td>\n",
       "      <td>0</td>\n",
       "      <td>0</td>\n",
       "      <td>0</td>\n",
       "      <td>0</td>\n",
       "      <td>0</td>\n",
       "      <td>0</td>\n",
       "      <td>0</td>\n",
       "      <td>0</td>\n",
       "      <td>0</td>\n",
       "    </tr>\n",
       "    <tr>\n",
       "      <th>26951</th>\n",
       "      <td>0.0</td>\n",
       "      <td>0.0</td>\n",
       "      <td>0.0</td>\n",
       "      <td>0.0</td>\n",
       "      <td>0.0</td>\n",
       "      <td>0.0</td>\n",
       "      <td>0.0</td>\n",
       "      <td>0.0</td>\n",
       "      <td>0.0</td>\n",
       "      <td>0.0</td>\n",
       "      <td>...</td>\n",
       "      <td>0</td>\n",
       "      <td>0</td>\n",
       "      <td>0</td>\n",
       "      <td>0</td>\n",
       "      <td>0</td>\n",
       "      <td>0</td>\n",
       "      <td>0</td>\n",
       "      <td>0</td>\n",
       "      <td>0</td>\n",
       "      <td>0</td>\n",
       "    </tr>\n",
       "  </tbody>\n",
       "</table>\n",
       "<p>26952 rows × 145 columns</p>\n",
       "</div>"
      ],
      "text/plain": [
       "       (Австралия,)  (Австрия,)  (Азербайджан,)  (Албания,)  (Алжир,)  \\\n",
       "0               0.0         0.0             0.0         0.0       0.0   \n",
       "1               0.0         0.0             0.0         0.0       0.0   \n",
       "2               0.0         0.0             0.0         0.0       0.0   \n",
       "3               0.0         0.0             0.0         0.0       0.0   \n",
       "4               0.0         0.0             0.0         0.0       0.0   \n",
       "...             ...         ...             ...         ...       ...   \n",
       "26947           0.0         0.0             0.0         0.0       0.0   \n",
       "26948           0.0         0.0             0.0         0.0       0.0   \n",
       "26949           0.0         0.0             0.0         0.0       0.0   \n",
       "26950           0.0         0.0             0.0         0.0       0.0   \n",
       "26951           0.0         0.0             0.0         0.0       0.0   \n",
       "\n",
       "       (Андорра,)  (Аргентина,)  (Армения,)  (Аруба,)  (Бангладеш,)  ...  \\\n",
       "0             0.0           0.0         0.0       0.0           0.0  ...   \n",
       "1             0.0           0.0         0.0       0.0           0.0  ...   \n",
       "2             0.0           0.0         0.0       0.0           0.0  ...   \n",
       "3             0.0           0.0         0.0       0.0           0.0  ...   \n",
       "4             0.0           0.0         0.0       0.0           0.0  ...   \n",
       "...           ...           ...         ...       ...           ...  ...   \n",
       "26947         0.0           0.0         0.0       0.0           0.0  ...   \n",
       "26948         0.0           0.0         0.0       0.0           0.0  ...   \n",
       "26949         0.0           0.0         0.0       0.0           0.0  ...   \n",
       "26950         0.0           0.0         0.0       0.0           0.0  ...   \n",
       "26951         0.0           0.0         0.0       0.0           0.0  ...   \n",
       "\n",
       "       Короткометражные  Мюзиклы  Путешествия  Ужасы  Детские  Арт-хаус  \\\n",
       "0                     0        0            0      0        0         0   \n",
       "1                     0        0            0      0        0         0   \n",
       "2                     0        0            0      0        0         0   \n",
       "3                     0        0            0      0        0         0   \n",
       "4                     0        0            0      0        0         0   \n",
       "...                 ...      ...          ...    ...      ...       ...   \n",
       "26947                 0        0            0      0        0         0   \n",
       "26948                 0        0            0      0        0         0   \n",
       "26949                 0        0            0      0        0         0   \n",
       "26950                 0        0            0      0        0         0   \n",
       "26951                 0        0            0      0        0         0   \n",
       "\n",
       "       Зарубежные  Наши  Украинские  Эротика  \n",
       "0               0     0           0        0  \n",
       "1               0     0           0        0  \n",
       "2               0     0           0        0  \n",
       "3               0     0           0        0  \n",
       "4               0     0           0        0  \n",
       "...           ...   ...         ...      ...  \n",
       "26947           0     0           0        0  \n",
       "26948           0     0           0        0  \n",
       "26949           0     0           0        0  \n",
       "26950           0     0           0        0  \n",
       "26951           0     0           0        0  \n",
       "\n",
       "[26952 rows x 145 columns]"
      ]
     },
     "execution_count": 129,
     "metadata": {},
     "output_type": "execute_result"
    }
   ],
   "source": [
    "table1 = table1.join(genres_df)\n",
    "table1"
   ]
  },
  {
   "cell_type": "code",
   "execution_count": 79,
   "metadata": {},
   "outputs": [],
   "source": [
    "for i in ['title', 'country', 'genre']:\n",
    "    del table1[i]\n",
    "table1 = table1.dropna()"
   ]
  },
  {
   "cell_type": "code",
   "execution_count": 131,
   "metadata": {},
   "outputs": [],
   "source": [
    "for i in table1.select_dtypes(include='object').columns:\n",
    "    table1[i] = table1[i].astype('int')"
   ]
  },
  {
   "cell_type": "code",
   "execution_count": 174,
   "metadata": {},
   "outputs": [
    {
     "name": "stdout",
     "output_type": "stream",
     "text": [
      "<class 'pandas.core.frame.DataFrame'>\n",
      "RangeIndex: 26952 entries, 0 to 26951\n",
      "Columns: 148 entries, ('Австралия',) to mean_rating\n",
      "dtypes: float64(119), int32(29)\n",
      "memory usage: 27.5 MB\n"
     ]
    }
   ],
   "source": [
    "table1.info()"
   ]
  },
  {
   "cell_type": "markdown",
   "metadata": {},
   "source": [
    "**Applying LR**"
   ]
  },
  {
   "cell_type": "code",
   "execution_count": 175,
   "metadata": {},
   "outputs": [
    {
     "name": "stderr",
     "output_type": "stream",
     "text": [
      "C:\\Python\\Python39\\lib\\site-packages\\sklearn\\utils\\validation.py:1688: FutureWarning: Feature names only support names that are all strings. Got feature names with dtypes: ['str', 'tuple']. An error will be raised in 1.2.\n",
      "  warnings.warn(\n"
     ]
    }
   ],
   "source": [
    "from sklearn.linear_model import LinearRegression, Lasso, SGDRegressor\n",
    "lin = LinearRegression()\n",
    "X = lin.fit(table1.loc[:, ~table1.columns.isin(['mean_rating'])], table1[['mean_rating']])"
   ]
  },
  {
   "cell_type": "code",
   "execution_count": 176,
   "metadata": {},
   "outputs": [
    {
     "data": {
      "text/plain": [
       "array([[-2.62713880e+09, -2.62713880e+09, -2.62713880e+09,\n",
       "        -2.62713880e+09, -2.62713880e+09, -2.62713880e+09,\n",
       "        -2.62713880e+09, -2.62713880e+09, -2.62713880e+09,\n",
       "        -2.62713880e+09, -2.62713880e+09, -2.62713880e+09,\n",
       "        -2.62713880e+09, -2.62713880e+09, -2.62713880e+09,\n",
       "        -2.62713880e+09, -2.62713880e+09, -2.62713880e+09,\n",
       "        -2.62713880e+09, -2.62713880e+09, -2.62713880e+09,\n",
       "        -2.62713880e+09, -2.62713880e+09, -2.62713880e+09,\n",
       "        -2.62713880e+09, -2.62713880e+09, -2.62713880e+09,\n",
       "        -2.62713880e+09, -2.62713880e+09, -2.62713880e+09,\n",
       "        -2.62713880e+09, -2.62713880e+09, -2.62713880e+09,\n",
       "        -2.62713880e+09, -2.62713880e+09, -2.62713880e+09,\n",
       "        -2.62713880e+09, -2.62713880e+09, -2.62713880e+09,\n",
       "        -2.62713880e+09, -2.62713880e+09, -2.62713880e+09,\n",
       "        -2.62713880e+09, -2.62713880e+09, -2.62713880e+09,\n",
       "        -2.62713880e+09, -2.62713880e+09, -2.62713880e+09,\n",
       "        -2.62713880e+09, -2.62713880e+09, -2.62713880e+09,\n",
       "        -2.62713880e+09, -2.62713880e+09, -2.62713880e+09,\n",
       "        -2.62713880e+09, -2.62713880e+09, -2.62713880e+09,\n",
       "        -2.62713880e+09, -2.62713880e+09, -2.62713880e+09,\n",
       "        -2.62713880e+09, -2.62713880e+09, -2.62713880e+09,\n",
       "        -2.62713880e+09, -2.62713880e+09, -2.62713880e+09,\n",
       "        -2.62713880e+09, -2.62713880e+09, -2.62713880e+09,\n",
       "        -2.62713880e+09, -2.62713880e+09, -2.62713880e+09,\n",
       "        -2.62713880e+09, -2.62713880e+09, -2.62713880e+09,\n",
       "        -2.62713880e+09, -2.62713880e+09, -2.62713880e+09,\n",
       "        -2.62713880e+09, -2.62713880e+09, -2.62713880e+09,\n",
       "        -2.62713880e+09, -2.62713880e+09, -2.62713880e+09,\n",
       "        -2.62713880e+09, -2.62713880e+09, -2.62713880e+09,\n",
       "        -2.62713880e+09, -2.62713880e+09, -2.62713880e+09,\n",
       "        -2.62713880e+09, -2.62713880e+09, -2.62713880e+09,\n",
       "        -2.62713880e+09, -2.62713880e+09, -2.62713880e+09,\n",
       "        -2.62713880e+09, -2.62713880e+09, -2.62713880e+09,\n",
       "        -2.62713880e+09, -2.62713880e+09, -2.62713880e+09,\n",
       "        -2.62713880e+09, -2.62713880e+09, -2.62713880e+09,\n",
       "        -2.62713880e+09, -2.62713880e+09, -2.62713880e+09,\n",
       "        -2.62713880e+09, -2.62713880e+09, -2.62713880e+09,\n",
       "        -2.62713880e+09, -2.62713880e+09, -2.62713880e+09,\n",
       "        -2.62713880e+09,  1.93140719e+11,  3.90004039e-01,\n",
       "         1.24830365e-01,  1.64451838e-01,  5.70003986e-02,\n",
       "         1.40366221e+00,  9.59450195e-01,  2.86874294e-01,\n",
       "         1.61041796e-01, -1.69468522e-02, -8.35609436e-03,\n",
       "         1.30270362e-01,  2.15065479e-02, -1.30113006e-01,\n",
       "         7.42707253e-02, -3.19597721e-02, -1.67457342e-01,\n",
       "         1.32207695e-01,  4.31578308e-01, -8.30722451e-02,\n",
       "         1.60403569e+00, -3.70651484e-02, -1.55097403e-01,\n",
       "        -5.02818823e-01,  2.04954565e-01,  4.00629751e-01,\n",
       "        -1.27551228e-01, -9.85605121e-02,  1.61634244e-01,\n",
       "        -9.22442853e-01, -1.93140719e+11,  2.63889551e-01]])"
      ]
     },
     "execution_count": 176,
     "metadata": {},
     "output_type": "execute_result"
    }
   ],
   "source": [
    "X.coef_"
   ]
  },
  {
   "cell_type": "code",
   "execution_count": 178,
   "metadata": {},
   "outputs": [
    {
     "name": "stdout",
     "output_type": "stream",
     "text": [
      "[-2.6271388e+09] 2.074129553520005\n"
     ]
    }
   ],
   "source": [
    "import numpy as np\n",
    "print(np.dot(X.coef_, table1.loc[20, ~table1.columns.isin(['mean_rating'])]), table1.loc[20, 'mean_rating'])"
   ]
  },
  {
   "cell_type": "markdown",
   "metadata": {},
   "source": [
    "We get strange coeficients, because of high linear collinearity of some columns, so lets apply another linear model with regularization"
   ]
  },
  {
   "cell_type": "code",
   "execution_count": 185,
   "metadata": {},
   "outputs": [
    {
     "name": "stderr",
     "output_type": "stream",
     "text": [
      "C:\\Python\\Python39\\lib\\site-packages\\sklearn\\utils\\validation.py:1688: FutureWarning: Feature names only support names that are all strings. Got feature names with dtypes: ['str', 'tuple']. An error will be raised in 1.2.\n",
      "  warnings.warn(\n"
     ]
    }
   ],
   "source": [
    "las = Lasso(alpha = 0.00001)\n",
    "X_reg = las.fit(table1.loc[:, ~table1.columns.isin(['mean_rating'])], table1[['mean_rating']])"
   ]
  },
  {
   "cell_type": "code",
   "execution_count": 186,
   "metadata": {},
   "outputs": [
    {
     "data": {
      "text/plain": [
       "array([-1.78629463e-01, -3.85661653e-02, -3.87620827e-01, -3.78451791e-02,\n",
       "       -1.08470845e-01, -1.00991351e+00, -6.38798918e-02,  2.63513000e-01,\n",
       "       -9.43345032e-01,  1.39852662e+00, -1.88451917e-01,  1.68048862e-01,\n",
       "        4.95952126e-02, -3.96553106e-01,  5.59489510e-01,  2.98327635e-01,\n",
       "        1.32567387e-01,  1.95701420e-03, -1.56448846e-01,  1.48892330e-01,\n",
       "        1.81787972e-01,  3.96969721e-01,  4.42871104e-01,  6.22715179e-01,\n",
       "       -1.28267472e-01,  2.07699328e-02,  2.22354346e-02,  3.56049307e-01,\n",
       "        4.13659497e-02,  0.00000000e+00, -0.00000000e+00,  1.00550369e-01,\n",
       "       -2.80424196e-01,  3.51676309e-02, -5.57698253e-02,  4.84420509e-03,\n",
       "        6.02956658e-01,  1.31574747e-01,  2.80262631e-01, -5.14256894e-02,\n",
       "       -2.22684430e-01,  7.37162236e-02, -1.85657688e-01, -9.44400661e-03,\n",
       "       -3.11587901e-01,  5.78303650e-01,  0.00000000e+00, -1.66934798e-01,\n",
       "       -9.23076833e-04, -0.00000000e+00,  2.59742745e-01,  1.30505842e-02,\n",
       "       -4.79703871e-02,  1.48079131e-01,  0.00000000e+00,  4.03828780e-01,\n",
       "       -4.37174127e-01,  5.06352619e-01, -1.35203628e+00, -5.27387059e-01,\n",
       "        5.79236986e-01, -3.71554132e-01, -1.52581947e-01,  5.56820676e-02,\n",
       "       -2.20929162e-01,  2.74180671e-01, -3.75215518e-01,  8.88935017e-03,\n",
       "       -5.20351856e-02,  4.88042241e-02, -4.69982269e-02,  3.35201565e-02,\n",
       "       -3.68995069e-02,  7.16680156e-01,  2.69158845e-01,  1.76035807e-02,\n",
       "        3.75547051e-01,  0.00000000e+00, -2.21853879e-01, -1.96702763e-01,\n",
       "       -3.55982346e-01, -3.59025433e-01,  2.98846622e-02,  5.81154090e-02,\n",
       "       -3.11207153e-01,  6.38902513e-01,  0.00000000e+00,  0.00000000e+00,\n",
       "       -1.25309096e-01, -4.47786551e-01,  2.27214928e-01, -0.00000000e+00,\n",
       "       -1.08455897e-01,  3.04491440e-02,  0.00000000e+00,  6.12958578e-01,\n",
       "       -2.09778672e-02,  9.69369087e-01, -0.00000000e+00, -6.22463642e-02,\n",
       "       -4.07391182e-02, -7.08017641e-02, -6.69959486e-02,  3.84067187e-01,\n",
       "       -4.41182601e-03, -1.50727047e-01, -1.51696677e-01, -1.39453353e-01,\n",
       "       -2.88683720e-01,  7.26806707e-01,  2.11282970e-01, -2.85018430e-01,\n",
       "        1.48621740e-01, -0.00000000e+00, -1.84381214e-02, -3.15817296e-01,\n",
       "        3.89852352e-01,  1.24585791e-01,  1.64308668e-01,  5.66416175e-02,\n",
       "        1.40353926e+00,  8.91881261e-01,  2.86606261e-01,  1.60904785e-01,\n",
       "       -1.65040591e-02, -8.86468788e-03,  1.30184234e-01,  2.13156785e-02,\n",
       "       -1.30122465e-01,  7.38286272e-02, -3.21318988e-02, -1.67713909e-01,\n",
       "        1.31843874e-01,  4.25885009e-01, -8.24813404e-02,  1.60206566e+00,\n",
       "       -3.63278457e-02, -1.31192110e-01, -5.03001120e-01,  2.01770845e-01,\n",
       "        3.96581562e-01, -1.27733638e-01, -9.42298917e-02,  1.49009134e-01,\n",
       "       -9.20993705e-01, -4.90495379e-07,  2.63729383e-01])"
      ]
     },
     "execution_count": 186,
     "metadata": {},
     "output_type": "execute_result"
    }
   ],
   "source": [
    "X_reg.coef_"
   ]
  },
  {
   "cell_type": "code",
   "execution_count": 187,
   "metadata": {},
   "outputs": [
    {
     "name": "stdout",
     "output_type": "stream",
     "text": [
      "0.5332469444957689 2.074129553520005\n"
     ]
    }
   ],
   "source": [
    "print(np.dot(X_reg.coef_, table1.loc[20, ~table1.columns.isin(['mean_rating'])]), table1.loc[20, 'mean_rating'])"
   ]
  },
  {
   "cell_type": "markdown",
   "metadata": {},
   "source": [
    "Applying SGD"
   ]
  },
  {
   "cell_type": "code",
   "execution_count": 221,
   "metadata": {},
   "outputs": [
    {
     "name": "stderr",
     "output_type": "stream",
     "text": [
      "C:\\Python\\Python39\\lib\\site-packages\\sklearn\\utils\\validation.py:1688: FutureWarning: Feature names only support names that are all strings. Got feature names with dtypes: ['str', 'tuple']. An error will be raised in 1.2.\n",
      "  warnings.warn(\n",
      "C:\\Python\\Python39\\lib\\site-packages\\sklearn\\utils\\validation.py:993: DataConversionWarning: A column-vector y was passed when a 1d array was expected. Please change the shape of y to (n_samples, ), for example using ravel().\n",
      "  y = column_or_1d(y, warn=True)\n"
     ]
    }
   ],
   "source": [
    "sgd = SGDRegressor(alpha = 0.00001)\n",
    "X_sgd = sgd.fit(table1.loc[:, ~table1.columns.isin(['mean_rating'])], table1[['mean_rating']])"
   ]
  },
  {
   "cell_type": "code",
   "execution_count": 223,
   "metadata": {},
   "outputs": [],
   "source": [
    "X_sgd = list(X_sgd.coef_)"
   ]
  },
  {
   "cell_type": "code",
   "execution_count": 224,
   "metadata": {},
   "outputs": [
    {
     "data": {
      "text/plain": [
       "[-0.0892769732340145,\n",
       " 0.02530533716218948,\n",
       " -0.007904884853223035,\n",
       " -0.001917273559865637,\n",
       " -0.0024714114080967853,\n",
       " -0.0073793554670049,\n",
       " 0.005322527308934241,\n",
       " 0.022076229163471555,\n",
       " -0.03564610930303173,\n",
       " 0.010527936117935444,\n",
       " -0.008854250819554836,\n",
       " 0.10308716559971126,\n",
       " 0.011014506858215324,\n",
       " -0.005510903116288868,\n",
       " 0.008481325522725503,\n",
       " 0.003741858871216568,\n",
       " 0.06450081798037126,\n",
       " 0.001693583612746539,\n",
       " -0.08914302220461834,\n",
       " 0.05216721683724468,\n",
       " 0.011573490828895456,\n",
       " 0.02255087970278666,\n",
       " 0.00424371481642463,\n",
       " 0.02425265626065089,\n",
       " -0.051468338917213,\n",
       " 0.07374381729786122,\n",
       " 0.016513020613072936,\n",
       " 0.017430384844744396,\n",
       " 0.086863286150176,\n",
       " 0.0005855666216857245,\n",
       " 0.0017150647616371718,\n",
       " 0.05339344987416146,\n",
       " -0.16438301999978683,\n",
       " 0.02748000678871939,\n",
       " -0.0015966509793342522,\n",
       " 0.0017879445180779161,\n",
       " 0.08561462056637045,\n",
       " 0.10384902982791343,\n",
       " 0.06386771373324972,\n",
       " 0.010997672601528079,\n",
       " -0.1663386055836831,\n",
       " 0.028616915499406804,\n",
       " -0.0038965439423032733,\n",
       " -0.0009245619035109844,\n",
       " -0.2495089323834053,\n",
       " 0.005537112167825874,\n",
       " 0.0018602117721782494,\n",
       " -0.0780022596222104,\n",
       " 0.004954364583333649,\n",
       " -0.0006502945551118134,\n",
       " 0.31834703791474417,\n",
       " 0.0022257503385273427,\n",
       " -0.00032922169384086506,\n",
       " 0.0043601847080368215,\n",
       " -0.0036642389256442455,\n",
       " 0.013308392727501615,\n",
       " -0.0025760034475251687,\n",
       " 0.025010343005987756,\n",
       " -0.02118473361188709,\n",
       " -0.02037894874658503,\n",
       " 0.012371610482743817,\n",
       " -0.014068388918019058,\n",
       " -0.0029741661701189357,\n",
       " 0.0030201912423775553,\n",
       " -0.07096119290430102,\n",
       " 0.008228819424317324,\n",
       " -0.014744130639721685,\n",
       " 0.04902482978494014,\n",
       " 0.011766460956581494,\n",
       " 0.05500202220326889,\n",
       " -0.001200744580971515,\n",
       " 0.0028203981676009505,\n",
       " 8.370084055117481e-05,\n",
       " 0.010020061761901632,\n",
       " 0.00538255930618002,\n",
       " 0.0021947631366528828,\n",
       " 0.011592161531917963,\n",
       " 0.0026812776597739214,\n",
       " -0.07617550552663645,\n",
       " -0.0075373962107464255,\n",
       " -0.008161388760706653,\n",
       " -0.2950455494946192,\n",
       " 0.0202350226718183,\n",
       " 0.12780057201656472,\n",
       " -0.2508590331995206,\n",
       " 0.005653754272670448,\n",
       " 0.00042082502940482384,\n",
       " 0.013699602595961459,\n",
       " -0.006188825588494291,\n",
       " -0.010262792097561818,\n",
       " 0.007819145982226954,\n",
       " 0.0001423461337086862,\n",
       " -0.013525475155597587,\n",
       " 0.027046229268131754,\n",
       " 0.0049312444826348865,\n",
       " 0.012768981199583218,\n",
       " 0.016754472198693637,\n",
       " 0.007378619041406645,\n",
       " 0.029581354072361482,\n",
       " -0.002175976666002508,\n",
       " 0.005788417912926044,\n",
       " 0.0040563535317434465,\n",
       " -0.008042768564160821,\n",
       " 0.02395379679783551,\n",
       " 0.024839972457339345,\n",
       " -0.006303508039023404,\n",
       " -0.015765093200055622,\n",
       " -0.006404567952558636,\n",
       " -0.1607325315435994,\n",
       " 0.006016698216324172,\n",
       " 0.037657037831144,\n",
       " -0.048211151736035636,\n",
       " 0.015222396329741188,\n",
       " -0.0008929123381365766,\n",
       " 0.05662201129493446,\n",
       " -0.1445434839604939,\n",
       " 0.38860986764346533,\n",
       " 0.12207102480952461,\n",
       " 0.16881839166813678,\n",
       " 0.06053261962940827,\n",
       " 1.3942757159097992,\n",
       " 0.02736216260352838,\n",
       " 0.2923691622830364,\n",
       " 0.1520202932611299,\n",
       " -0.010755538734232925,\n",
       " 0.0002721508894496376,\n",
       " 0.11582860247389341,\n",
       " 0.02681540641176174,\n",
       " -0.1141424062807401,\n",
       " 0.06603662337172647,\n",
       " -0.03750426107374317,\n",
       " -0.16529816636635578,\n",
       " 0.1314848508778768,\n",
       " 0.23131541173416134,\n",
       " -0.08419642690974163,\n",
       " 1.0200937626701057,\n",
       " -0.0205499378702196,\n",
       " 0.0007505127248395678,\n",
       " -0.5071605365146444,\n",
       " 0.06913977328485407,\n",
       " 0.13549617712436435,\n",
       " -0.04419592289949397,\n",
       " -0.04120524557848655,\n",
       " 0.018261543494064874,\n",
       " -0.35180696628033264,\n",
       " -0.1445434839604939,\n",
       " 0.2372446166704387]"
      ]
     },
     "execution_count": 224,
     "metadata": {},
     "output_type": "execute_result"
    }
   ],
   "source": [
    "X_sgd"
   ]
  },
  {
   "cell_type": "code",
   "execution_count": 190,
   "metadata": {},
   "outputs": [
    {
     "name": "stdout",
     "output_type": "stream",
     "text": [
      "1.0461449531621705 2.412015054361796\n"
     ]
    }
   ],
   "source": [
    "print(np.dot(X_sgd.coef_, table1.loc[5, ~table1.columns.isin(['mean_rating'])]), table1.loc[5, 'mean_rating'])"
   ]
  },
  {
   "cell_type": "markdown",
   "metadata": {},
   "source": [
    "So, by looking at all coeficients we can accept SGD, to get most valuable of them"
   ]
  },
  {
   "cell_type": "markdown",
   "metadata": {},
   "source": [
    "Or we can apply PCA to reduce number of dimensions"
   ]
  },
  {
   "cell_type": "code",
   "execution_count": 195,
   "metadata": {},
   "outputs": [
    {
     "name": "stderr",
     "output_type": "stream",
     "text": [
      "C:\\Python\\Python39\\lib\\site-packages\\sklearn\\utils\\validation.py:1688: FutureWarning: Feature names only support names that are all strings. Got feature names with dtypes: ['str', 'tuple']. An error will be raised in 1.2.\n",
      "  warnings.warn(\n"
     ]
    },
    {
     "data": {
      "text/html": [
       "<div>\n",
       "<style scoped>\n",
       "    .dataframe tbody tr th:only-of-type {\n",
       "        vertical-align: middle;\n",
       "    }\n",
       "\n",
       "    .dataframe tbody tr th {\n",
       "        vertical-align: top;\n",
       "    }\n",
       "\n",
       "    .dataframe thead th {\n",
       "        text-align: right;\n",
       "    }\n",
       "</style>\n",
       "<table border=\"1\" class=\"dataframe\">\n",
       "  <thead>\n",
       "    <tr style=\"text-align: right;\">\n",
       "      <th></th>\n",
       "      <th>P1</th>\n",
       "      <th>P2</th>\n",
       "      <th>P3</th>\n",
       "    </tr>\n",
       "  </thead>\n",
       "  <tbody>\n",
       "    <tr>\n",
       "      <th>0</th>\n",
       "      <td>1.471150</td>\n",
       "      <td>1.662436</td>\n",
       "      <td>0.389090</td>\n",
       "    </tr>\n",
       "    <tr>\n",
       "      <th>1</th>\n",
       "      <td>1.397773</td>\n",
       "      <td>3.852894</td>\n",
       "      <td>0.603534</td>\n",
       "    </tr>\n",
       "    <tr>\n",
       "      <th>2</th>\n",
       "      <td>0.039817</td>\n",
       "      <td>1.666509</td>\n",
       "      <td>-0.224796</td>\n",
       "    </tr>\n",
       "    <tr>\n",
       "      <th>3</th>\n",
       "      <td>-0.464356</td>\n",
       "      <td>0.893336</td>\n",
       "      <td>-0.261645</td>\n",
       "    </tr>\n",
       "    <tr>\n",
       "      <th>4</th>\n",
       "      <td>0.976123</td>\n",
       "      <td>0.653321</td>\n",
       "      <td>-0.245189</td>\n",
       "    </tr>\n",
       "    <tr>\n",
       "      <th>...</th>\n",
       "      <td>...</td>\n",
       "      <td>...</td>\n",
       "      <td>...</td>\n",
       "    </tr>\n",
       "    <tr>\n",
       "      <th>26947</th>\n",
       "      <td>-0.993693</td>\n",
       "      <td>-0.040239</td>\n",
       "      <td>-0.799496</td>\n",
       "    </tr>\n",
       "    <tr>\n",
       "      <th>26948</th>\n",
       "      <td>-1.051136</td>\n",
       "      <td>0.872032</td>\n",
       "      <td>0.703437</td>\n",
       "    </tr>\n",
       "    <tr>\n",
       "      <th>26949</th>\n",
       "      <td>-1.265499</td>\n",
       "      <td>-0.388112</td>\n",
       "      <td>0.750430</td>\n",
       "    </tr>\n",
       "    <tr>\n",
       "      <th>26950</th>\n",
       "      <td>-1.390559</td>\n",
       "      <td>-0.443557</td>\n",
       "      <td>0.575511</td>\n",
       "    </tr>\n",
       "    <tr>\n",
       "      <th>26951</th>\n",
       "      <td>0.384931</td>\n",
       "      <td>0.179232</td>\n",
       "      <td>-1.014010</td>\n",
       "    </tr>\n",
       "  </tbody>\n",
       "</table>\n",
       "<p>26952 rows × 3 columns</p>\n",
       "</div>"
      ],
      "text/plain": [
       "             P1        P2        P3\n",
       "0      1.471150  1.662436  0.389090\n",
       "1      1.397773  3.852894  0.603534\n",
       "2      0.039817  1.666509 -0.224796\n",
       "3     -0.464356  0.893336 -0.261645\n",
       "4      0.976123  0.653321 -0.245189\n",
       "...         ...       ...       ...\n",
       "26947 -0.993693 -0.040239 -0.799496\n",
       "26948 -1.051136  0.872032  0.703437\n",
       "26949 -1.265499 -0.388112  0.750430\n",
       "26950 -1.390559 -0.443557  0.575511\n",
       "26951  0.384931  0.179232 -1.014010\n",
       "\n",
       "[26952 rows x 3 columns]"
      ]
     },
     "execution_count": 195,
     "metadata": {},
     "output_type": "execute_result"
    }
   ],
   "source": [
    "from sklearn import decomposition\n",
    "pca = decomposition.PCA(n_components=3)\n",
    "table_pca = pd.DataFrame(pca.fit_transform(table1.loc[:, ~table1.columns.isin(['mean_rating'])]), columns = ['P1', 'P2', 'P3'])\n",
    "table_pca"
   ]
  },
  {
   "cell_type": "code",
   "execution_count": 214,
   "metadata": {},
   "outputs": [],
   "source": [
    "lin_pca = LinearRegression()\n",
    "X_pca = lin_pca.fit(table_pca, table1[['mean_rating']])"
   ]
  },
  {
   "cell_type": "code",
   "execution_count": 215,
   "metadata": {},
   "outputs": [
    {
     "name": "stdout",
     "output_type": "stream",
     "text": [
      "[0.8846904] 2.412015054361796\n"
     ]
    }
   ],
   "source": [
    "print(np.dot(X_pca.coef_, table_pca.loc[5, :]), table1.loc[5, 'mean_rating'])"
   ]
  },
  {
   "cell_type": "code",
   "execution_count": 210,
   "metadata": {},
   "outputs": [],
   "source": [
    "las_pca = Lasso(alpha = 0.001)\n",
    "X_reg_pca = las_pca.fit(table_pca, table1[['mean_rating']])"
   ]
  },
  {
   "cell_type": "code",
   "execution_count": 211,
   "metadata": {},
   "outputs": [
    {
     "name": "stdout",
     "output_type": "stream",
     "text": [
      "0.8820928692569738 2.412015054361796\n"
     ]
    }
   ],
   "source": [
    "print(np.dot(X_reg_pca.coef_, table_pca.loc[5, :]), table1.loc[5, 'mean_rating'])"
   ]
  },
  {
   "cell_type": "code",
   "execution_count": 212,
   "metadata": {},
   "outputs": [
    {
     "name": "stderr",
     "output_type": "stream",
     "text": [
      "C:\\Python\\Python39\\lib\\site-packages\\sklearn\\utils\\validation.py:993: DataConversionWarning: A column-vector y was passed when a 1d array was expected. Please change the shape of y to (n_samples, ), for example using ravel().\n",
      "  y = column_or_1d(y, warn=True)\n"
     ]
    }
   ],
   "source": [
    "sgd_pca = SGDRegressor(alpha = 0.00001)\n",
    "X_sgd_pca = sgd_pca.fit(table_pca, table1[['mean_rating']])"
   ]
  },
  {
   "cell_type": "code",
   "execution_count": 213,
   "metadata": {},
   "outputs": [
    {
     "name": "stdout",
     "output_type": "stream",
     "text": [
      "0.911154817890158 2.412015054361796\n"
     ]
    }
   ],
   "source": [
    "print(np.dot(X_sgd_pca.coef_, table_pca.loc[5, :]), table1.loc[5, 'mean_rating'])"
   ]
  },
  {
   "cell_type": "code",
   "execution_count": 228,
   "metadata": {},
   "outputs": [
    {
     "data": {
      "text/plain": [
       "{('Австралия',): -0.0892769732340145,\n",
       " ('Австрия',): 0.02530533716218948,\n",
       " ('Азербайджан',): -0.007904884853223035,\n",
       " ('Албания',): -0.001917273559865637,\n",
       " ('Алжир',): -0.0024714114080967853,\n",
       " ('Андорра',): -0.0073793554670049,\n",
       " ('Аргентина',): 0.005322527308934241,\n",
       " ('Армения',): 0.022076229163471555,\n",
       " ('Аруба',): -0.03564610930303173,\n",
       " ('Бангладеш',): 0.010527936117935444,\n",
       " ('Беларусь',): -0.008854250819554836,\n",
       " ('Бельгия',): 0.10308716559971126,\n",
       " ('Болгария',): 0.011014506858215324,\n",
       " ('Боливия',): -0.005510903116288868,\n",
       " ('Босния-Герцеговина',): 0.008481325522725503,\n",
       " ('Ботсвана',): 0.003741858871216568,\n",
       " ('Бразилия',): 0.06450081798037126,\n",
       " ('Бутан',): 0.001693583612746539,\n",
       " ('Великобритания',): -0.08914302220461834,\n",
       " ('Венгрия',): 0.05216721683724468,\n",
       " ('Венесуэла',): 0.011573490828895456,\n",
       " ('Вьетнам',): 0.02255087970278666,\n",
       " ('Гана',): 0.00424371481642463,\n",
       " ('Гватемала',): 0.02425265626065089,\n",
       " ('Германия',): -0.051468338917213,\n",
       " ('Гонконг',): 0.07374381729786122,\n",
       " ('Греция',): 0.016513020613072936,\n",
       " ('Грузия',): 0.017430384844744396,\n",
       " ('Дания',): 0.086863286150176,\n",
       " ('Доминикана',): 0.0005855666216857245,\n",
       " ('Египет',): 0.0017150647616371718,\n",
       " ('Израиль',): 0.05339344987416146,\n",
       " ('Индия',): -0.16438301999978683,\n",
       " ('Индонезия',): 0.02748000678871939,\n",
       " ('Иордания',): -0.0015966509793342522,\n",
       " ('Ирак',): 0.0017879445180779161,\n",
       " ('Иран',): 0.08561462056637045,\n",
       " ('Ирландия',): 0.10384902982791343,\n",
       " ('Исландия',): 0.06386771373324972,\n",
       " ('Испания',): 0.010997672601528079,\n",
       " ('Италия',): -0.1663386055836831,\n",
       " ('Казахстан',): 0.028616915499406804,\n",
       " ('Камбоджа',): -0.0038965439423032733,\n",
       " ('Камерун',): -0.0009245619035109844,\n",
       " ('Канада',): -0.2495089323834053,\n",
       " ('Кения',): 0.005537112167825874,\n",
       " ('Кипр',): 0.0018602117721782494,\n",
       " ('Китай',): -0.0780022596222104,\n",
       " ('Колумбия',): 0.004954364583333649,\n",
       " ('Корея Северная',): -0.0006502945551118134,\n",
       " ('Корея Южная',): 0.31834703791474417,\n",
       " ('Коста-Рика',): 0.0022257503385273427,\n",
       " ('Куба',): -0.00032922169384086506,\n",
       " ('Кыргызстан',): 0.0043601847080368215,\n",
       " ('Латвия',): -0.0036642389256442455,\n",
       " ('Ливан',): 0.013308392727501615,\n",
       " ('Ливия',): -0.0025760034475251687,\n",
       " ('Литва',): 0.025010343005987756,\n",
       " ('Лихтенштейн',): -0.02118473361188709,\n",
       " ('Люксембург',): -0.02037894874658503,\n",
       " ('Македония',): 0.012371610482743817,\n",
       " ('Малайзия',): -0.014068388918019058,\n",
       " ('Мальта',): -0.0029741661701189357,\n",
       " ('Марокко',): 0.0030201912423775553,\n",
       " ('Мексика',): -0.07096119290430102,\n",
       " ('Монголия',): 0.008228819424317324,\n",
       " ('Нигерия',): -0.014744130639721685,\n",
       " ('Нидерланды',): 0.04902482978494014,\n",
       " ('Новая Зеландия',): 0.011766460956581494,\n",
       " ('Норвегия',): 0.05500202220326889,\n",
       " ('ОАЭ',): -0.001200744580971515,\n",
       " ('Остров Мэн',): 0.0028203981676009505,\n",
       " ('Пакистан',): 8.370084055117481e-05,\n",
       " ('Палестина',): 0.010020061761901632,\n",
       " ('Панама',): 0.00538255930618002,\n",
       " ('Папуа - Новая Гвинея',): 0.0021947631366528828,\n",
       " ('Парагвай',): 0.011592161531917963,\n",
       " ('Перу',): 0.0026812776597739214,\n",
       " ('Польша',): -0.07617550552663645,\n",
       " ('Португалия',): -0.0075373962107464255,\n",
       " ('Пуэрто Рико',): -0.008161388760706653,\n",
       " ('Россия',): -0.2950455494946192,\n",
       " ('Румыния',): 0.0202350226718183,\n",
       " ('СССР',): 0.12780057201656472,\n",
       " ('США',): -0.2508590331995206,\n",
       " ('Саудовская Аравия',): 0.005653754272670448,\n",
       " ('Сенегал',): 0.00042082502940482384,\n",
       " ('Сербия',): 0.013699602595961459,\n",
       " ('Сингапур',): -0.006188825588494291,\n",
       " ('Словакия',): -0.010262792097561818,\n",
       " ('Словения',): 0.007819145982226954,\n",
       " ('Сомали',): 0.0001423461337086862,\n",
       " ('Таиланд',): -0.013525475155597587,\n",
       " ('Тайвань',): 0.027046229268131754,\n",
       " ('Танзания',): 0.0049312444826348865,\n",
       " ('Тунис',): 0.012768981199583218,\n",
       " ('Турция',): 0.016754472198693637,\n",
       " ('Узбекистан',): 0.007378619041406645,\n",
       " ('Украина',): 0.029581354072361482,\n",
       " ('Уругвай',): -0.002175976666002508,\n",
       " ('Филиппины',): 0.005788417912926044,\n",
       " ('Финляндия',): 0.0040563535317434465,\n",
       " ('Франция',): -0.008042768564160821,\n",
       " ('Хорватия',): 0.02395379679783551,\n",
       " ('Чехия',): 0.024839972457339345,\n",
       " ('Чехословакия',): -0.006303508039023404,\n",
       " ('Чили',): -0.015765093200055622,\n",
       " ('Швейцария',): -0.006404567952558636,\n",
       " ('Швеция',): -0.1607325315435994,\n",
       " ('Шри-Ланка',): 0.006016698216324172,\n",
       " ('Эстония',): 0.037657037831144,\n",
       " ('ЮАР',): -0.048211151736035636,\n",
       " ('Югославия',): 0.015222396329741188,\n",
       " ('Ямайка',): -0.0008929123381365766,\n",
       " ('Япония',): 0.05662201129493446,\n",
       " ('year',): -0.1445434839604939,\n",
       " 'Драмы': 0.38860986764346533,\n",
       " 'Криминал': 0.12207102480952461,\n",
       " 'Детективы': 0.16881839166813678,\n",
       " 'Фэнтези': 0.06053261962940827,\n",
       " 'Документальные': 1.3942757159097992,\n",
       " 'Музыкальные': 0.02736216260352838,\n",
       " 'Биографические': 0.2923691622830364,\n",
       " 'Мелодрамы': 0.1520202932611299,\n",
       " 'Военные': -0.010755538734232925,\n",
       " 'Исторические': 0.0002721508894496376,\n",
       " 'Комедии': 0.11582860247389341,\n",
       " 'Приключения': 0.02681540641176174,\n",
       " 'Фантастика': -0.1141424062807401,\n",
       " 'Семейные': 0.06603662337172647,\n",
       " 'Триллеры': -0.03750426107374317,\n",
       " 'Боевики': -0.16529816636635578,\n",
       " 'Спортивные': 0.1314848508778768,\n",
       " 'Познавательные': 0.23131541173416134,\n",
       " 'Вестерны': -0.08419642690974163,\n",
       " 'Короткометражные': 1.0200937626701057,\n",
       " 'Мюзиклы': -0.0205499378702196,\n",
       " 'Путешествия': 0.0007505127248395678,\n",
       " 'Ужасы': -0.5071605365146444,\n",
       " 'Детские': 0.06913977328485407,\n",
       " 'Арт-хаус': 0.13549617712436435,\n",
       " 'Зарубежные': -0.04419592289949397,\n",
       " 'Наши': -0.04120524557848655,\n",
       " 'Украинские': 0.018261543494064874,\n",
       " 'Эротика': -0.35180696628033264,\n",
       " 'year': -0.1445434839604939,\n",
       " 'duration': 0.2372446166704387}"
      ]
     },
     "execution_count": 228,
     "metadata": {},
     "output_type": "execute_result"
    }
   ],
   "source": [
    "coef = {}\n",
    "for i in range(len(table1.columns)-1):\n",
    "    coef[table1.columns[i]] =  X_sgd[i]\n",
    "coef"
   ]
  },
  {
   "cell_type": "markdown",
   "metadata": {},
   "source": [
    "Sum affect of columns"
   ]
  },
  {
   "cell_type": "code",
   "execution_count": 235,
   "metadata": {},
   "outputs": [
    {
     "data": {
      "text/plain": [
       "-0.09206079016810509"
      ]
     },
     "execution_count": 235,
     "metadata": {},
     "output_type": "execute_result"
    }
   ],
   "source": [
    "sum(list(coef.values())[:115]) #country"
   ]
  },
  {
   "cell_type": "code",
   "execution_count": 239,
   "metadata": {},
   "outputs": [
    {
     "data": {
      "text/plain": [
       "2.6561287767136705"
      ]
     },
     "execution_count": 239,
     "metadata": {},
     "output_type": "execute_result"
    }
   ],
   "source": [
    "sum(list(coef.values())[117:145]) #genre"
   ]
  },
  {
   "cell_type": "code",
   "execution_count": 240,
   "metadata": {},
   "outputs": [
    {
     "data": {
      "text/plain": [
       "-0.1445434839604939"
      ]
     },
     "execution_count": 240,
     "metadata": {},
     "output_type": "execute_result"
    }
   ],
   "source": [
    "coef['year']"
   ]
  },
  {
   "cell_type": "code",
   "execution_count": 241,
   "metadata": {},
   "outputs": [
    {
     "data": {
      "text/plain": [
       "0.2372446166704387"
      ]
     },
     "execution_count": 241,
     "metadata": {},
     "output_type": "execute_result"
    }
   ],
   "source": [
    "coef['duration']"
   ]
  },
  {
   "cell_type": "markdown",
   "metadata": {
    "id": "4_1BD5ppXqip"
   },
   "source": [
    "# **Conclusion**"
   ]
  },
  {
   "cell_type": "markdown",
   "metadata": {
    "id": "Zm0c3QM1XzlE"
   },
   "source": [
    "1. The number of films is growing over the years, but people prefer to give preference to older films. (Visualization shows that ratings are falling over the years.) \n",
    "\n",
    "2. Quantity does not mean quality. \n",
    "*   USA has the highest number of films, but the average rating is low.\n",
    "\n",
    "3. SGD regression algorithm shows, genre has most affect on film rating\n",
    "(Drama, documentary films has high positive effect, Horror, erotic movies high negative effect)\n"
   ]
  }
 ],
 "metadata": {
  "colab": {
   "collapsed_sections": [],
   "name": "main_of_research.ipynb",
   "provenance": []
  },
  "kernelspec": {
   "display_name": "Python 3",
   "language": "python",
   "name": "python3"
  },
  "language_info": {
   "codemirror_mode": {
    "name": "ipython",
    "version": 3
   },
   "file_extension": ".py",
   "mimetype": "text/x-python",
   "name": "python",
   "nbconvert_exporter": "python",
   "pygments_lexer": "ipython3",
   "version": "3.9.1"
  }
 },
 "nbformat": 4,
 "nbformat_minor": 1
}
